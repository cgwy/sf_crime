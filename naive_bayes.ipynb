{
 "metadata": {
  "name": "",
  "signature": "sha256:a63d275baa146e59eff94e9dcf0b748f06b70d6fcba5a4fddf103b306a178ce7"
 },
 "nbformat": 3,
 "nbformat_minor": 0,
 "worksheets": [
  {
   "cells": [
    {
     "cell_type": "code",
     "collapsed": false,
     "input": [
      "import csv\n",
      "import datetime\n",
      "import pandas as pd\n",
      "import numpy as np\n",
      "\n",
      "demographic_data = {}\n",
      "with open('demographic.csv', 'rbU') as csvfile:\n",
      "    demo_fields = []\n",
      "    demographic_read = csv.reader(csvfile, delimiter=';')\n",
      "    for row in demographic_read:\n",
      "        if len(demo_fields) == 0:\n",
      "            demo_fields = row[2:] #row[2:] are actual data\n",
      "        else:\n",
      "            demographic_data[row[1]] = row[2:] #row[1] is PdDistrict, used as index\n",
      "            \n",
      "df_demographic = pd.DataFrame(demographic_data).transpose()\n",
      "df_demographic.columns = demo_fields"
     ],
     "language": "python",
     "metadata": {},
     "outputs": [],
     "prompt_number": 1
    },
    {
     "cell_type": "code",
     "collapsed": false,
     "input": [
      "df_train = pd.read_csv('../sf/train.csv', parse_dates=['Dates'])\n",
      "df_train.drop(['Descript', 'Resolution'], axis=1, inplace=True)\n",
      "df_train = df_train.join(df_demographic, on='PdDistrict')\n",
      "for column_name in ['Category', 'DayOfWeek', 'PdDistrict']:\n",
      "    df_train[column_name] = pd.Categorical.from_array(df_train[column_name]).labels"
     ],
     "language": "python",
     "metadata": {},
     "outputs": [],
     "prompt_number": 4
    },
    {
     "cell_type": "code",
     "collapsed": false,
     "input": [
      "df_test = pd.read_csv('../sf/test.csv', parse_dates=['Dates'])\n",
      "df_test = df_test.join(df_demographic, on='PdDistrict')\n",
      "for column_name in ['DayOfWeek', 'PdDistrict']:\n",
      "    df_train[column_name] = pd.Categorical.from_array(df_train[column_name]).labels"
     ],
     "language": "python",
     "metadata": {},
     "outputs": [],
     "prompt_number": 5
    },
    {
     "cell_type": "code",
     "collapsed": false,
     "input": [
      "'''\n",
      "from sklearn.feature_extraction.text import CountVectorizer\n",
      "cvec = CountVectorizer()\n",
      "bows_train = cvec.fit_transform(df_train['Address'][:100000,].values)\n",
      "'''\n",
      "inds = np.arange(df_train.shape[0])\n",
      "np.random.shuffle(inds)\n",
      "'''\n",
      "from sklearn.cross_validation import KFold\n",
      "kf = KFold(df_train.shape[0], n_folds = 10)\n",
      "for train, test in kf:\n",
      "    #print(\"%s %s\" % (train, test))\n",
      "    print df_train.loc[train,:].shape, df_train.loc[test,:].shape\n",
      "'''"
     ],
     "language": "python",
     "metadata": {},
     "outputs": [
      {
       "metadata": {},
       "output_type": "pyout",
       "prompt_number": 6,
       "text": [
        "'\\nfrom sklearn.cross_validation import KFold\\nkf = KFold(df_train.shape[0], n_folds = 10)\\nfor train, test in kf:\\n    #print(\"%s %s\" % (train, test))\\n    print df_train.loc[train,:].shape, df_train.loc[test,:].shape\\n'"
       ]
      }
     ],
     "prompt_number": 6
    },
    {
     "cell_type": "code",
     "collapsed": false,
     "input": [
      "df_train, df_val = df_train[:int(0.8*len(inds))], df_train[int(0.8*len(inds)):]"
     ],
     "language": "python",
     "metadata": {},
     "outputs": [],
     "prompt_number": 7
    },
    {
     "cell_type": "code",
     "collapsed": false,
     "input": [
      "from patsy import dmatrices, dmatrix\n",
      "from sklearn.ensemble import RandomForestClassifier\n",
      "from sklearn.feature_extraction.text import CountVectorizer\n",
      "from sklearn.linear_model import LogisticRegression\n",
      "\n",
      "y_train, X_train = dmatrices('Category ~ X + Y + DayOfWeek + PdDistrict', df_train)\n",
      "y_val, X_val = dmatrices('Category ~ X + Y + DayOfWeek + PdDistrict', df_val)"
     ],
     "language": "python",
     "metadata": {},
     "outputs": [],
     "prompt_number": 8
    },
    {
     "cell_type": "code",
     "collapsed": false,
     "input": [
      "logistic = LogisticRegression(max_iter=10)\n",
      "logistic.fit(X_train, y_train.ravel())"
     ],
     "language": "python",
     "metadata": {},
     "outputs": [
      {
       "metadata": {},
       "output_type": "pyout",
       "prompt_number": 13,
       "text": [
        "LogisticRegression(C=1.0, class_weight=None, dual=False, fit_intercept=True,\n",
        "          intercept_scaling=1, max_iter=10, multi_class='ovr', n_jobs=1,\n",
        "          penalty='l2', random_state=None, solver='liblinear', tol=0.0001,\n",
        "          verbose=0, warm_start=False)"
       ]
      }
     ],
     "prompt_number": 13
    },
    {
     "cell_type": "code",
     "collapsed": false,
     "input": [
      "print('Mean accuracy (Logistic): {:.4f}'.format(logistic.score(X_val, y_val.ravel())))"
     ],
     "language": "python",
     "metadata": {},
     "outputs": [
      {
       "output_type": "stream",
       "stream": "stdout",
       "text": [
        "Mean accuracy (Logistic): 0.1695\n"
       ]
      }
     ],
     "prompt_number": 14
    },
    {
     "cell_type": "code",
     "collapsed": false,
     "input": [],
     "language": "python",
     "metadata": {},
     "outputs": []
    }
   ],
   "metadata": {}
  }
 ]
}
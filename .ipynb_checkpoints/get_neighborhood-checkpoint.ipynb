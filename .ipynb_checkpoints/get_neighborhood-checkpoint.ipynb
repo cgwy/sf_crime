{
 "metadata": {
  "name": "",
  "signature": "sha256:3db2a6c620cb2e030e7e55f507fa04a7d75a7d23278e68828223d01b782ac575"
 },
 "nbformat": 3,
 "nbformat_minor": 0,
 "worksheets": [
  {
   "cells": [
    {
     "cell_type": "code",
     "collapsed": false,
     "input": [
      "import json\n",
      "from pprint import pprint\n",
      "\n",
      "with open('data/sf_neighborhoods.json') as data_file:    \n",
      "    nh = json.load(data_file)\n",
      "\n",
      "nh_names = sorted(map(lambda x: x[8], nh['data']))\n",
      "nh_poly_str = map(lambda x: x[9], nh['data'])"
     ],
     "language": "python",
     "metadata": {},
     "outputs": [],
     "prompt_number": 15
    },
    {
     "cell_type": "code",
     "collapsed": false,
     "input": [
      "def parse_nh_poly_str(raw_str):\n",
      "    raw_str = raw_str.encode('ascii', 'ignore')\n",
      "    polys = []\n",
      "    i = 0\n",
      "    len_raw = len(raw_str)\n",
      "    while i < len_raw:\n",
      "        new_poly = []\n",
      "        while i < len_raw and raw_str[i] != '(':\n",
      "            i += 1\n",
      "        if i < len_raw:\n",
      "            while raw_str[i] == '(':\n",
      "                i += 1\n",
      "            j = i\n",
      "            while raw_str[j] != ')':\n",
      "                j += 1\n",
      "            new_poly_str = raw_str[i:j]\n",
      "            new_poly = map(lambda x: map(float, x.split()), new_poly_str.split(','))\n",
      "            polys.append(new_poly)\n",
      "        else:#no more new poly\n",
      "            continue\n",
      "    return polys\n",
      "\n",
      "#point: tuple (X,Y)\n",
      "def PointInPloygon(p, polygon):\n",
      "    nCross = 0\n",
      "    nCount = len(polygon)\n",
      "    for i in range(nCount):\n",
      "        p1 = polygon[i]\n",
      "        p2 = polygon[(i+1)%nCount]\n",
      "        if p1[1] == p2[1]:\n",
      "            continue\n",
      "        if p[1] < min(p1[1], p2[1]):\n",
      "            continue\n",
      "        if p[1] >= max(p1[1], p2[1]):\n",
      "            continue\n",
      "        x = (p[1] - p1[1]) * (p2[0] - p1[0]) / (p2[1] - p1[1]) + p1[0]\n",
      "        if x > p[0]:\n",
      "            nCross = nCross + 1\n",
      "    \n",
      "    return (nCross % 2 == 1)\n",
      "\n",
      "#@return: >=0: id of poly_group,  -1: no match\n",
      "def PointInPloygonGroups(point, nh_poly_groups):\n",
      "    for i in range(len(nh_poly_groups)):\n",
      "        for polygon in nh_poly_groups[i]:\n",
      "            if PointInPloygon(point, polygon):\n",
      "                return i\n",
      "    return -1\n",
      "\n",
      "nh_poly_groups = map(parse_nh_poly_str, nh_poly_str)"
     ],
     "language": "python",
     "metadata": {},
     "outputs": [],
     "prompt_number": 29
    },
    {
     "cell_type": "code",
     "collapsed": false,
     "input": [
      "import csv\n",
      "import pandas as pd\n",
      "\n",
      "df_train = pd.read_csv('../sf/train.csv', parse_dates=['Dates'])"
     ],
     "language": "python",
     "metadata": {},
     "outputs": [],
     "prompt_number": 3
    },
    {
     "cell_type": "code",
     "collapsed": false,
     "input": [
      "points = zip(df_train['X'], df_train['Y'])\n",
      "for i in range(0, 100):\n",
      "    nh_id = PointInPloygonGroups(points[i], nh_poly_groups)\n",
      "    print  points[i], nh_id, nh_names[nh_id]"
     ],
     "language": "python",
     "metadata": {},
     "outputs": [
      {
       "output_type": "stream",
       "stream": "stdout",
       "text": [
        "(-122.425891675136, 37.774598595674703) 8 Haight Ashbury\n",
        "(-122.425891675136, 37.774598595674703) 8 Haight Ashbury\n",
        "(-122.42436302145001, 37.800414321985599) 12 Japantown\n",
        "(-122.42699532676599, 37.800872632769213)"
       ]
      },
      {
       "output_type": "stream",
       "stream": "stdout",
       "text": [
        " 12 Japantown\n",
        "(-122.438737622757, 37.771541172057795) 2 Castro/Upper Market\n",
        "(-122.40325236121201, 37.713430704116) 39 West of Twin Peaks\n",
        "(-122.42332697666799, 37.7251380403778)"
       ]
      },
      {
       "output_type": "stream",
       "stream": "stdout",
       "text": [
        " 6 Glen Park\n",
        "(-122.37127431744101, 37.727564071951797) 0 Bayview Hunters Point\n",
        "(-122.508194031117, 37.776601260681204) 28 Potrero Hill\n",
        "(-122.419087676747, 37.807801551651501)"
       ]
      },
      {
       "output_type": "stream",
       "stream": "stdout",
       "text": [
        " 31 Russian Hill\n",
        "(-122.419087676747, 37.807801551651501) 31 Russian Hill\n",
        "(-122.487983072777, 37.737666654332706)"
       ]
      },
      {
       "output_type": "stream",
       "stream": "stdout",
       "text": [
        " 34 Sunset/Parkside\n",
        "(-122.41241426358101, 37.7830037964534) 35 Tenderloin\n",
        "(-122.432914603494, 37.7843533426568)"
       ]
      },
      {
       "output_type": "stream",
       "stream": "stdout",
       "text": [
        " 38 Visitacion Valley\n",
        "(-122.39774442710301, 37.729934693604399) 0 Bayview Hunters Point\n",
        "(-122.38369150395901, 37.743189041996501) 0 Bayview Hunters Point\n",
        "(-122.412597377187, 37.783932027727296)"
       ]
      },
      {
       "output_type": "stream",
       "stream": "stdout",
       "text": [
        " 35 Tenderloin\n",
        "(-122.42168153157201, 37.742822200484497) 1 Bernal Heights\n",
        "(-122.38640086995301, 37.738983491071998) 0 Bayview Hunters Point\n",
        "(-122.41224976763399, 37.782556330201999)"
       ]
      },
      {
       "output_type": "stream",
       "stream": "stdout",
       "text": [
        " 35 Tenderloin\n",
        "(-122.44938911128401, 37.742668802576603) 40 Western Addition\n",
        "(-122.420272135283, 37.747331629878502) 1 Bernal Heights\n",
        "(-122.41224976763399, 37.782556330201999)"
       ]
      },
      {
       "output_type": "stream",
       "stream": "stdout",
       "text": [
        " 35 Tenderloin\n",
        "(-122.41224976763399, 37.782556330201999) 35 Tenderloin\n",
        "(-122.43604920358601, 37.799841222882293) "
       ]
      },
      {
       "output_type": "stream",
       "stream": "stdout",
       "text": [
        "12 Japantown\n",
        "(-122.41050925879499, 37.786043222299206) 35 Tenderloin\n",
        "(-122.43101755702699, 37.7873880712241)"
       ]
      },
      {
       "output_type": "stream",
       "stream": "stdout",
       "text": [
        " 29 Presidio\n",
        "(-122.42365634294501, 37.732556488206498) 1 Bernal Heights\n",
        "(-122.475773497852, 37.744919069590999) 34 Sunset/Parkside\n",
        "(-122.49978712068999, 37.748517603472287)"
       ]
      },
      {
       "output_type": "stream",
       "stream": "stdout",
       "text": [
        " 34 Sunset/Parkside\n",
        "(-122.43104636608901, 37.783029571604402) 38 Visitacion Valley\n",
        "(-122.43515009981199, 37.761759724359798) 4 Excelsior\n",
        "(-122.432743822617, 37.7838424505847)"
       ]
      },
      {
       "output_type": "stream",
       "stream": "stdout",
       "text": [
        " 38 Visitacion Valley\n",
        "(-122.431309540727, 37.785870627252599) 14 Lincoln Park\n",
        "(-122.431309540727, 37.785870627252599) 14 Lincoln Park\n",
        "(-122.391845617192, 37.778124778322002)"
       ]
      },
      {
       "output_type": "stream",
       "stream": "stdout",
       "text": [
        " 3 Chinatown\n",
        "(-122.431830723792, 37.795641703257601) 29 Presidio\n",
        "(-122.43055177980101, 37.7893227716214)"
       ]
      },
      {
       "output_type": "stream",
       "stream": "stdout",
       "text": [
        " 29 Presidio\n",
        "(-122.47318202955799, 37.721564740620103) 40 Western Addition\n",
        "(-122.43244646285299, 37.710832654107499)"
       ]
      },
      {
       "output_type": "stream",
       "stream": "stdout",
       "text": [
        " 6 Glen Park\n",
        "(-122.405294845215, 37.786307223636499) 7 Golden Gate Park\n",
        "(-122.422127579529, 37.773033018351498)"
       ]
      },
      {
       "output_type": "stream",
       "stream": "stdout",
       "text": [
        " 8 Haight Ashbury\n",
        "(-122.406351834294, 37.786031157636202) 7 Golden Gate Park\n",
        "(-122.39944365894199, 37.730176016164712) 0 Bayview Hunters Point\n",
        "(-122.39944365894199, 37.730176016164712)"
       ]
      },
      {
       "output_type": "stream",
       "stream": "stdout",
       "text": [
        " 0 Bayview Hunters Point\n",
        "(-122.415212031352, 37.788871449843001) 20 Nob Hill\n",
        "(-122.423702325261, 37.735232787815903)"
       ]
      },
      {
       "output_type": "stream",
       "stream": "stdout",
       "text": [
        " 1 Bernal Heights\n",
        "(-122.471799827428, 37.765686698829796) 13 Lakeshore\n",
        "(-122.408597386677, 37.789224205872998)"
       ]
      },
      {
       "output_type": "stream",
       "stream": "stdout",
       "text": [
        " 20 Nob Hill\n",
        "(-122.44776112232, 37.7698464875415) 2 Castro/Upper Market\n",
        "(-122.39869558968901, 37.754745601118898) 25 Outer Richmond\n",
        "(-122.39869558968901, 37.754745601118898)"
       ]
      },
      {
       "output_type": "stream",
       "stream": "stdout",
       "text": [
        " 25 Outer Richmond\n",
        "(-122.40328484310601, 37.787306416019) 7 Golden Gate Park\n",
        "(-122.397615567933, 37.7773918242817) 33 South of Market\n",
        "(-122.420347208832, 37.771769072224394)"
       ]
      },
      {
       "output_type": "stream",
       "stream": "stdout",
       "text": [
        " 19 Mission Bay\n",
        "(-122.399802145799, 37.788006532439212) 7 Golden Gate Park\n",
        "(-122.42139581911501, 37.785684338947199) 38 Visitacion Valley\n",
        "(-122.41127918996901, 37.771578576504297)"
       ]
      },
      {
       "output_type": "stream",
       "stream": "stdout",
       "text": [
        " 33 South of Market\n",
        "(-122.42799115191099, 37.784953124161213) 38 Visitacion Valley\n",
        "(-122.40071978579701, 37.790712469586502) 7 Golden Gate Park\n",
        "(-122.40071978579701, 37.790712469586502)"
       ]
      },
      {
       "output_type": "stream",
       "stream": "stdout",
       "text": [
        " 7 Golden Gate Park\n",
        "(-122.41292895522, 37.789686826578397) 20 Nob Hill\n",
        "(-122.41292895522, 37.789686826578397) 20 Nob Hill\n",
        "(-122.39509777418101, 37.794059048556207)"
       ]
      },
      {
       "output_type": "stream",
       "stream": "stdout",
       "text": [
        " 7 Golden Gate Park\n",
        "(-122.411636621857, 37.771786935063894) 33 South of Market\n",
        "(-122.47489915168801, 37.7269905309861)"
       ]
      },
      {
       "output_type": "stream",
       "stream": "stdout",
       "text": [
        " 40 Western Addition\n",
        "(-122.416235852379, 37.784912573847606) 35 Tenderloin\n",
        "(-122.416235852379, 37.784912573847606)"
       ]
      },
      {
       "output_type": "stream",
       "stream": "stdout",
       "text": [
        " 35 Tenderloin\n",
        "(-122.416235852379, 37.784912573847606) 35 Tenderloin\n",
        "(-122.395985970867, 37.778834820568207)"
       ]
      },
      {
       "output_type": "stream",
       "stream": "stdout",
       "text": [
        " 33 South of Market\n",
        "(-122.395985970867, 37.778834820568207) 33 South of Market\n",
        "(-122.434121356001, 37.786033049732701)"
       ]
      },
      {
       "output_type": "stream",
       "stream": "stdout",
       "text": [
        " 29 Presidio\n",
        "(-122.39713621736701, 37.722804982520103) 0 Bayview Hunters Point\n",
        "(-122.42257233421302, 37.748774005049498) 19 Mission Bay\n",
        "(-122.406958660602, 37.789434763003996)"
       ]
      },
      {
       "output_type": "stream",
       "stream": "stdout",
       "text": [
        " 7 Golden Gate Park\n",
        "(-122.41967661615, 37.7658510977435) 19 Mission Bay\n",
        "(-122.41967661615, 37.7658510977435) 19 Mission Bay\n",
        "(-122.442496487593, 37.7604858807114)"
       ]
      },
      {
       "output_type": "stream",
       "stream": "stdout",
       "text": [
        " 4 Excelsior\n",
        "(-122.39641145553401, 37.779187614727) 33 South of Market\n",
        "(-122.41359169556101, 37.7638222259421) 19 Mission Bay\n",
        "(-122.402042584193, 37.797504889833895)"
       ]
      },
      {
       "output_type": "stream",
       "stream": "stdout",
       "text": [
        " 22 North Beach\n",
        "(-122.4214269222, 37.794602827240702) 31 Russian Hill\n",
        "(-122.4214269222, 37.794602827240702)"
       ]
      },
      {
       "output_type": "stream",
       "stream": "stdout",
       "text": [
        " 31 Russian Hill\n",
        "(-122.41426339037201, 37.781756984796793) 35 Tenderloin\n",
        "(-122.411504150729, 37.7477859069595) 1 Bernal Heights\n",
        "(-122.43699990716499, 37.7791621676229)"
       ]
      },
      {
       "output_type": "stream",
       "stream": "stdout",
       "text": [
        " 38 Visitacion Valley\n",
        "(-122.513642064265, 37.778469219946707) 28 Potrero Hill\n",
        "(-122.41793796834801, 37.726605136966)"
       ]
      },
      {
       "output_type": "stream",
       "stream": "stdout",
       "text": [
        " 6 Glen Park\n",
        "(-122.432743822617, 37.7838424505847)"
       ]
      },
      {
       "output_type": "stream",
       "stream": "stdout",
       "text": [
        " 38 Visitacion Valley\n",
        "(-122.40574476200899, 37.791498082842494) 7 Golden Gate Park\n",
        "(-122.420691386664, 37.781483252353702)"
       ]
      },
      {
       "output_type": "stream",
       "stream": "stdout",
       "text": [
        " 38 Visitacion Valley\n",
        "(-122.415088721046, 37.783671956437203) 35 Tenderloin\n",
        "(-122.46699111214399, 37.739723159214201)"
       ]
      },
      {
       "output_type": "stream",
       "stream": "stdout",
       "text": [
        " 40 Western Addition\n",
        "(-122.41780061524599, 37.801268383943999) 31 Russian Hill\n",
        "(-122.42018000130599, 37.804789650688797)"
       ]
      },
      {
       "output_type": "stream",
       "stream": "stdout",
       "text": [
        " 31 Russian Hill\n",
        "(-122.404099929802, 37.728837339642702) 24 Outer Mission\n",
        "(-122.41501468504801, 37.750836391743995) 19 Mission Bay\n",
        "(-122.40950430935, 37.781526271746998)"
       ]
      },
      {
       "output_type": "stream",
       "stream": "stdout",
       "text": [
        " 33 South of Market\n",
        "(-122.387571306252, 37.760549956514396) 25 Outer Richmond\n",
        "(-122.435318423327, 37.764102028717801) 4 Excelsior\n"
       ]
      }
     ],
     "prompt_number": 35
    },
    {
     "cell_type": "code",
     "collapsed": false,
     "input": [
      "print points[0]"
     ],
     "language": "python",
     "metadata": {},
     "outputs": [
      {
       "output_type": "stream",
       "stream": "stdout",
       "text": [
        "(-122.425891675136, 37.774598595674703)\n"
       ]
      }
     ],
     "prompt_number": 33
    },
    {
     "cell_type": "code",
     "collapsed": false,
     "input": [],
     "language": "python",
     "metadata": {},
     "outputs": []
    }
   ],
   "metadata": {}
  }
 ]
}
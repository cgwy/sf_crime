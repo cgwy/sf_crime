{
 "metadata": {
  "name": "",
  "signature": "sha256:606321d5569a51573da1f181550da8c9bb54c6d092c6b79206ddafa06fba8e8e"
 },
 "nbformat": 3,
 "nbformat_minor": 0,
 "worksheets": [
  {
   "cells": [
    {
     "cell_type": "code",
     "collapsed": false,
     "input": [
      "import json\n",
      "from pprint import pprint\n",
      "\n",
      "with open('data.json') as data_file:    \n",
      "    data = json.load(data_file)\n",
      "\n",
      "pprint(data)\n"
     ],
     "language": "python",
     "metadata": {},
     "outputs": []
    }
   ],
   "metadata": {}
  }
 ]
}
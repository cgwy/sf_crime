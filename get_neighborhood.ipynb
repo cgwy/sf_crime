{
 "metadata": {
  "name": "",
  "signature": "sha256:042342f5b5b6c20436db723b1f7b93ad81250f8693905182549b0144cef0540b"
 },
 "nbformat": 3,
 "nbformat_minor": 0,
 "worksheets": [
  {
   "cells": [
    {
     "cell_type": "code",
     "collapsed": false,
     "input": [
      "import json\n",
      "from pprint import pprint\n",
      "\n",
      "with open('data/sf_neighborhoods.json') as data_file:    \n",
      "    nh = json.load(data_file)\n",
      "\n",
      "nh_names = map(lambda x: x[8], nh['data']) #Note: the nh_names here is not sorted\n",
      "nh_poly_str = map(lambda x: x[9], nh['data'])"
     ],
     "language": "python",
     "metadata": {},
     "outputs": [],
     "prompt_number": 97
    },
    {
     "cell_type": "code",
     "collapsed": false,
     "input": [
      "#input: string representation of polygons\n",
      "#output: list of list of polygons\n",
      "def parse_nh_poly_str(raw_str):\n",
      "    raw_str = raw_str.encode('ascii', 'ignore')#unicode to ascii\n",
      "    polys = []\n",
      "    i = 0\n",
      "    len_raw = len(raw_str)\n",
      "    while i < len_raw:\n",
      "        new_poly = []\n",
      "        while i < len_raw and raw_str[i] != '(':\n",
      "            i += 1\n",
      "        if i < len_raw:\n",
      "            while raw_str[i] == '(':\n",
      "                i += 1\n",
      "            j = i\n",
      "            while raw_str[j] != ')':\n",
      "                j += 1\n",
      "            new_poly_str = raw_str[i:j]\n",
      "            new_poly = map(lambda x: map(float, x.split()), new_poly_str.split(','))\n",
      "            polys.append(new_poly)\n",
      "        else:#no more new poly\n",
      "            continue\n",
      "    return polys\n",
      "\n",
      "nh_poly_groups = map(parse_nh_poly_str, nh_poly_str)"
     ],
     "language": "python",
     "metadata": {},
     "outputs": [],
     "prompt_number": 29
    },
    {
     "cell_type": "code",
     "collapsed": false,
     "input": [
      "#For acceleration\n",
      "def GenBoundingBox(polygon_group):\n",
      "    [minX, minY] = polygon_group[0][0]\n",
      "    [maxX, maxY] = polygon_group[0][0]\n",
      "    for polygon in polygon_group:\n",
      "        i = 0\n",
      "        while i < len(polygon) - 1:\n",
      "            [minX, minY] = [min(minX, polygon[i][0]), min(minY, polygon[i][1])]\n",
      "            [maxX, maxY] = [max(maxX, polygon[i][0]), max(maxY, polygon[i][1])]\n",
      "            i = i+1\n",
      "    return [minX, minY, maxX, maxY]\n",
      " \n",
      "bound_boxes = map(GenBoundingBox, nh_poly_groups)\n",
      "#print nh_poly_groups[0][0][0]\n",
      "len(bound_boxes)"
     ],
     "language": "python",
     "metadata": {},
     "outputs": [
      {
       "metadata": {},
       "output_type": "pyout",
       "prompt_number": 99,
       "text": [
        "41"
       ]
      }
     ],
     "prompt_number": 99
    },
    {
     "cell_type": "code",
     "collapsed": false,
     "input": [
      "#point: tuple (X,Y)\n",
      "def PointInPloygon(p, polygon):\n",
      "    nCross = 0\n",
      "    nCount = len(polygon)\n",
      "    for i in range(nCount):\n",
      "        p1 = polygon[i]\n",
      "        p2 = polygon[(i+1)%nCount]\n",
      "        if p1[1] == p2[1]:\n",
      "            continue\n",
      "        if p[1] < min(p1[1], p2[1]):\n",
      "            continue\n",
      "        if p[1] >= max(p1[1], p2[1]):\n",
      "            continue\n",
      "        x = (p[1] - p1[1]) * (p2[0] - p1[0]) / (p2[1] - p1[1]) + p1[0]\n",
      "        if x > p[0]:\n",
      "            nCross = nCross + 1\n",
      "    \n",
      "    return (nCross % 2 == 1)\n",
      "\n",
      "#@return: >=0: id of poly_group,  -1: no match\n",
      "def PointInPloygonGroups(point, nh_poly_groups):\n",
      "    for i in range(len(nh_poly_groups)):\n",
      "        #Can accelerate abour 50 times\n",
      "        if point[0] < bound_boxes[i][0] or point[1] < bound_boxes[i][1] or point[0] > bound_boxes[i][2] or point[1] > bound_boxes[i][3]:\n",
      "            continue\n",
      "        for polygon in nh_poly_groups[i]:\n",
      "            if PointInPloygon(point, polygon):\n",
      "                return i\n",
      "    return -1"
     ],
     "language": "python",
     "metadata": {},
     "outputs": [],
     "prompt_number": 101
    },
    {
     "cell_type": "code",
     "collapsed": false,
     "input": [
      "import csv\n",
      "import pandas as pd\n",
      "\n",
      "df_train = pd.read_csv('../sf/train.csv', parse_dates=['Dates'])"
     ],
     "language": "python",
     "metadata": {},
     "outputs": [],
     "prompt_number": 3
    },
    {
     "cell_type": "code",
     "collapsed": false,
     "input": [
      "import datetime \n",
      "\n",
      "points = zip(df_train['X'], df_train['Y'])\n",
      "nh_res = []\n",
      "n_wrong = 0\n",
      "for i in range(0, len(points)):\n",
      "#for i in range(0, 100):\n",
      "    nh_id = PointInPloygonGroups(points[i], nh_poly_groups)\n",
      "    if nh_id == -1:#could not find matching neighbourhood\n",
      "        nh_res.append('')\n",
      "        n_wrong += 1\n",
      "    else:\n",
      "        nh_res.append(nh_names[nh_id])\n",
      "        #print i, datetime.datetime.now(), nh_names[nh_id], points[i]\n",
      "    if i % 1000 == 0:\n",
      "        print i, n_wrong,\n",
      "    if i % 10000 == 0:\n",
      "        print '\\n', datetime.datetime.now()\n",
      "\n",
      "f = open('./data/nh_res.txt', 'w')\n",
      "for line in nh_res:\n",
      "    f.write(line + '\\n')\n",
      "f.close()"
     ],
     "language": "python",
     "metadata": {},
     "outputs": [
      {
       "output_type": "stream",
       "stream": "stdout",
       "text": [
        "0 0 \n",
        "2016-02-14 17:57:32.055451\n",
        "1000"
       ]
      },
      {
       "output_type": "stream",
       "stream": "stdout",
       "text": [
        " 0 "
       ]
      },
      {
       "output_type": "stream",
       "stream": "stdout",
       "text": [
        "2000 0 "
       ]
      },
      {
       "output_type": "stream",
       "stream": "stdout",
       "text": [
        "3000 2 "
       ]
      },
      {
       "output_type": "stream",
       "stream": "stdout",
       "text": [
        "4000 3 "
       ]
      },
      {
       "output_type": "stream",
       "stream": "stdout",
       "text": [
        "5000 3 "
       ]
      },
      {
       "output_type": "stream",
       "stream": "stdout",
       "text": [
        "6000 3 "
       ]
      },
      {
       "output_type": "stream",
       "stream": "stdout",
       "text": [
        "7000 3 "
       ]
      },
      {
       "output_type": "stream",
       "stream": "stdout",
       "text": [
        "8000 4 "
       ]
      },
      {
       "output_type": "stream",
       "stream": "stdout",
       "text": [
        "9000 5 "
       ]
      },
      {
       "output_type": "stream",
       "stream": "stdout",
       "text": [
        "10000 5 \n",
        "2016-02-14 17:57:46.254205\n",
        "11000"
       ]
      },
      {
       "output_type": "stream",
       "stream": "stdout",
       "text": [
        " 6 "
       ]
      },
      {
       "output_type": "stream",
       "stream": "stdout",
       "text": [
        "12000 6 "
       ]
      },
      {
       "output_type": "stream",
       "stream": "stdout",
       "text": [
        "13000 7 "
       ]
      },
      {
       "output_type": "stream",
       "stream": "stdout",
       "text": [
        "14000 7 "
       ]
      },
      {
       "output_type": "stream",
       "stream": "stdout",
       "text": [
        "15000 9 "
       ]
      },
      {
       "output_type": "stream",
       "stream": "stdout",
       "text": [
        "16000 9 "
       ]
      },
      {
       "output_type": "stream",
       "stream": "stdout",
       "text": [
        "17000 10 "
       ]
      },
      {
       "output_type": "stream",
       "stream": "stdout",
       "text": [
        "18000 10 "
       ]
      },
      {
       "output_type": "stream",
       "stream": "stdout",
       "text": [
        "19000 10 "
       ]
      },
      {
       "output_type": "stream",
       "stream": "stdout",
       "text": [
        "20000 10 \n",
        "2016-02-14 17:58:02.256466\n",
        "21000"
       ]
      },
      {
       "output_type": "stream",
       "stream": "stdout",
       "text": [
        " 10 "
       ]
      },
      {
       "output_type": "stream",
       "stream": "stdout",
       "text": [
        "22000 12 "
       ]
      },
      {
       "output_type": "stream",
       "stream": "stdout",
       "text": [
        "23000 12 "
       ]
      },
      {
       "output_type": "stream",
       "stream": "stdout",
       "text": [
        "24000 12 "
       ]
      },
      {
       "output_type": "stream",
       "stream": "stdout",
       "text": [
        "25000 12 "
       ]
      },
      {
       "output_type": "stream",
       "stream": "stdout",
       "text": [
        "26000 12 "
       ]
      },
      {
       "output_type": "stream",
       "stream": "stdout",
       "text": [
        "27000 12 "
       ]
      },
      {
       "output_type": "stream",
       "stream": "stdout",
       "text": [
        "28000 20 "
       ]
      },
      {
       "output_type": "stream",
       "stream": "stdout",
       "text": [
        "29000 20 "
       ]
      },
      {
       "output_type": "stream",
       "stream": "stdout",
       "text": [
        "30000 22 \n",
        "2016-02-14 17:58:15.224364\n",
        "31000"
       ]
      },
      {
       "output_type": "stream",
       "stream": "stdout",
       "text": [
        " 24 "
       ]
      },
      {
       "output_type": "stream",
       "stream": "stdout",
       "text": [
        "32000 24 "
       ]
      },
      {
       "output_type": "stream",
       "stream": "stdout",
       "text": [
        "33000 24 "
       ]
      },
      {
       "output_type": "stream",
       "stream": "stdout",
       "text": [
        "34000 24 "
       ]
      },
      {
       "output_type": "stream",
       "stream": "stdout",
       "text": [
        "35000 24 "
       ]
      },
      {
       "output_type": "stream",
       "stream": "stdout",
       "text": [
        "36000 25 "
       ]
      },
      {
       "output_type": "stream",
       "stream": "stdout",
       "text": [
        "37000 25 "
       ]
      },
      {
       "output_type": "stream",
       "stream": "stdout",
       "text": [
        "38000 25 "
       ]
      },
      {
       "output_type": "stream",
       "stream": "stdout",
       "text": [
        "39000 25 "
       ]
      },
      {
       "output_type": "stream",
       "stream": "stdout",
       "text": [
        "40000 26 \n",
        "2016-02-14 17:58:27.757424\n",
        "41000"
       ]
      },
      {
       "output_type": "stream",
       "stream": "stdout",
       "text": [
        " 26 "
       ]
      },
      {
       "output_type": "stream",
       "stream": "stdout",
       "text": [
        "42000 26 "
       ]
      },
      {
       "output_type": "stream",
       "stream": "stdout",
       "text": [
        "43000 28 "
       ]
      },
      {
       "output_type": "stream",
       "stream": "stdout",
       "text": [
        "44000 28 "
       ]
      },
      {
       "output_type": "stream",
       "stream": "stdout",
       "text": [
        "45000 30 "
       ]
      },
      {
       "output_type": "stream",
       "stream": "stdout",
       "text": [
        "46000 30 "
       ]
      },
      {
       "output_type": "stream",
       "stream": "stdout",
       "text": [
        "47000 30 "
       ]
      },
      {
       "output_type": "stream",
       "stream": "stdout",
       "text": [
        "48000 30 "
       ]
      },
      {
       "output_type": "stream",
       "stream": "stdout",
       "text": [
        "49000 31 "
       ]
      },
      {
       "output_type": "stream",
       "stream": "stdout",
       "text": [
        "50000 32 \n",
        "2016-02-14 17:58:40.831000\n",
        "51000"
       ]
      },
      {
       "output_type": "stream",
       "stream": "stdout",
       "text": [
        " 32 "
       ]
      },
      {
       "output_type": "stream",
       "stream": "stdout",
       "text": [
        "52000 32 "
       ]
      },
      {
       "output_type": "stream",
       "stream": "stdout",
       "text": [
        "53000 33 "
       ]
      },
      {
       "output_type": "stream",
       "stream": "stdout",
       "text": [
        "54000 33 "
       ]
      },
      {
       "output_type": "stream",
       "stream": "stdout",
       "text": [
        "55000 33 "
       ]
      },
      {
       "output_type": "stream",
       "stream": "stdout",
       "text": [
        "56000 35 "
       ]
      },
      {
       "output_type": "stream",
       "stream": "stdout",
       "text": [
        "57000 35 "
       ]
      },
      {
       "output_type": "stream",
       "stream": "stdout",
       "text": [
        "58000 35 "
       ]
      },
      {
       "output_type": "stream",
       "stream": "stdout",
       "text": [
        "59000 35 "
       ]
      },
      {
       "output_type": "stream",
       "stream": "stdout",
       "text": [
        "60000 35 \n",
        "2016-02-14 17:58:54.503282\n",
        "61000"
       ]
      },
      {
       "output_type": "stream",
       "stream": "stdout",
       "text": [
        " 35 "
       ]
      },
      {
       "output_type": "stream",
       "stream": "stdout",
       "text": [
        "62000 35 "
       ]
      },
      {
       "output_type": "stream",
       "stream": "stdout",
       "text": [
        "63000 35 "
       ]
      },
      {
       "output_type": "stream",
       "stream": "stdout",
       "text": [
        "64000 35 "
       ]
      },
      {
       "output_type": "stream",
       "stream": "stdout",
       "text": [
        "65000 35 "
       ]
      },
      {
       "output_type": "stream",
       "stream": "stdout",
       "text": [
        "66000 35 "
       ]
      },
      {
       "output_type": "stream",
       "stream": "stdout",
       "text": [
        "67000 35 "
       ]
      },
      {
       "output_type": "stream",
       "stream": "stdout",
       "text": [
        "68000 35 "
       ]
      },
      {
       "output_type": "stream",
       "stream": "stdout",
       "text": [
        "69000 35 "
       ]
      },
      {
       "output_type": "stream",
       "stream": "stdout",
       "text": [
        "70000 35 \n",
        "2016-02-14 17:59:09.540646\n",
        "71000"
       ]
      },
      {
       "output_type": "stream",
       "stream": "stdout",
       "text": [
        " 35 "
       ]
      },
      {
       "output_type": "stream",
       "stream": "stdout",
       "text": [
        "72000 35 "
       ]
      },
      {
       "output_type": "stream",
       "stream": "stdout",
       "text": [
        "73000 35 "
       ]
      },
      {
       "output_type": "stream",
       "stream": "stdout",
       "text": [
        "74000 35 "
       ]
      },
      {
       "output_type": "stream",
       "stream": "stdout",
       "text": [
        "75000 35 "
       ]
      },
      {
       "output_type": "stream",
       "stream": "stdout",
       "text": [
        "76000 35 "
       ]
      },
      {
       "output_type": "stream",
       "stream": "stdout",
       "text": [
        "77000 35 "
       ]
      },
      {
       "output_type": "stream",
       "stream": "stdout",
       "text": [
        "78000 37 "
       ]
      },
      {
       "output_type": "stream",
       "stream": "stdout",
       "text": [
        "79000 38 "
       ]
      },
      {
       "output_type": "stream",
       "stream": "stdout",
       "text": [
        "80000 38 \n",
        "2016-02-14 17:59:23.548464\n",
        "81000"
       ]
      },
      {
       "output_type": "stream",
       "stream": "stdout",
       "text": [
        " 38 "
       ]
      },
      {
       "output_type": "stream",
       "stream": "stdout",
       "text": [
        "82000 38 "
       ]
      },
      {
       "output_type": "stream",
       "stream": "stdout",
       "text": [
        "83000 38 "
       ]
      },
      {
       "output_type": "stream",
       "stream": "stdout",
       "text": [
        "84000 38 "
       ]
      },
      {
       "output_type": "stream",
       "stream": "stdout",
       "text": [
        "85000 38 "
       ]
      },
      {
       "output_type": "stream",
       "stream": "stdout",
       "text": [
        "86000 38 "
       ]
      },
      {
       "output_type": "stream",
       "stream": "stdout",
       "text": [
        "87000 38 "
       ]
      },
      {
       "output_type": "stream",
       "stream": "stdout",
       "text": [
        "88000 38 "
       ]
      },
      {
       "output_type": "stream",
       "stream": "stdout",
       "text": [
        "89000 39 "
       ]
      },
      {
       "output_type": "stream",
       "stream": "stdout",
       "text": [
        "90000 39 \n",
        "2016-02-14 17:59:37.318363\n",
        "91000"
       ]
      },
      {
       "output_type": "stream",
       "stream": "stdout",
       "text": [
        " 39 "
       ]
      },
      {
       "output_type": "stream",
       "stream": "stdout",
       "text": [
        "92000 39 "
       ]
      },
      {
       "output_type": "stream",
       "stream": "stdout",
       "text": [
        "93000 40 "
       ]
      },
      {
       "output_type": "stream",
       "stream": "stdout",
       "text": [
        "94000 40 "
       ]
      },
      {
       "output_type": "stream",
       "stream": "stdout",
       "text": [
        "95000 40 "
       ]
      },
      {
       "output_type": "stream",
       "stream": "stdout",
       "text": [
        "96000 40 "
       ]
      },
      {
       "output_type": "stream",
       "stream": "stdout",
       "text": [
        "97000 40 "
       ]
      },
      {
       "output_type": "stream",
       "stream": "stdout",
       "text": [
        "98000 40 "
       ]
      },
      {
       "output_type": "stream",
       "stream": "stdout",
       "text": [
        "99000 40 "
       ]
      },
      {
       "output_type": "stream",
       "stream": "stdout",
       "text": [
        "100000 42 \n",
        "2016-02-14 17:59:51.389189\n",
        "101000"
       ]
      },
      {
       "output_type": "stream",
       "stream": "stdout",
       "text": [
        " 42 "
       ]
      },
      {
       "output_type": "stream",
       "stream": "stdout",
       "text": [
        "102000 42 "
       ]
      },
      {
       "output_type": "stream",
       "stream": "stdout",
       "text": [
        "103000 44 "
       ]
      },
      {
       "output_type": "stream",
       "stream": "stdout",
       "text": [
        "104000 44 "
       ]
      },
      {
       "output_type": "stream",
       "stream": "stdout",
       "text": [
        "105000 44 "
       ]
      },
      {
       "output_type": "stream",
       "stream": "stdout",
       "text": [
        "106000 44 "
       ]
      },
      {
       "output_type": "stream",
       "stream": "stdout",
       "text": [
        "107000 44 "
       ]
      },
      {
       "output_type": "stream",
       "stream": "stdout",
       "text": [
        "108000 44 "
       ]
      },
      {
       "output_type": "stream",
       "stream": "stdout",
       "text": [
        "109000 46 "
       ]
      },
      {
       "output_type": "stream",
       "stream": "stdout",
       "text": [
        "110000 46 \n",
        "2016-02-14 18:00:04.510184\n",
        "111000"
       ]
      },
      {
       "output_type": "stream",
       "stream": "stdout",
       "text": [
        " 46 "
       ]
      },
      {
       "output_type": "stream",
       "stream": "stdout",
       "text": [
        "112000 46 "
       ]
      },
      {
       "output_type": "stream",
       "stream": "stdout",
       "text": [
        "113000 46 "
       ]
      },
      {
       "output_type": "stream",
       "stream": "stdout",
       "text": [
        "114000 46 "
       ]
      },
      {
       "output_type": "stream",
       "stream": "stdout",
       "text": [
        "115000 46 "
       ]
      },
      {
       "output_type": "stream",
       "stream": "stdout",
       "text": [
        "116000 46 "
       ]
      },
      {
       "output_type": "stream",
       "stream": "stdout",
       "text": [
        "117000 46 "
       ]
      },
      {
       "output_type": "stream",
       "stream": "stdout",
       "text": [
        "118000 46 "
       ]
      },
      {
       "output_type": "stream",
       "stream": "stdout",
       "text": [
        "119000 46 "
       ]
      },
      {
       "output_type": "stream",
       "stream": "stdout",
       "text": [
        "120000 46 \n",
        "2016-02-14 18:00:18.832678\n",
        "121000"
       ]
      },
      {
       "output_type": "stream",
       "stream": "stdout",
       "text": [
        " 46 "
       ]
      },
      {
       "output_type": "stream",
       "stream": "stdout",
       "text": [
        "122000 46 "
       ]
      },
      {
       "output_type": "stream",
       "stream": "stdout",
       "text": [
        "123000 46 "
       ]
      },
      {
       "output_type": "stream",
       "stream": "stdout",
       "text": [
        "124000 46 "
       ]
      },
      {
       "output_type": "stream",
       "stream": "stdout",
       "text": [
        "125000 46 "
       ]
      },
      {
       "output_type": "stream",
       "stream": "stdout",
       "text": [
        "126000 46 "
       ]
      },
      {
       "output_type": "stream",
       "stream": "stdout",
       "text": [
        "127000 46 "
       ]
      },
      {
       "output_type": "stream",
       "stream": "stdout",
       "text": [
        "128000 46 "
       ]
      },
      {
       "output_type": "stream",
       "stream": "stdout",
       "text": [
        "129000 47 "
       ]
      },
      {
       "output_type": "stream",
       "stream": "stdout",
       "text": [
        "130000 47 \n",
        "2016-02-14 18:00:32.222393\n",
        "131000"
       ]
      },
      {
       "output_type": "stream",
       "stream": "stdout",
       "text": [
        " 47 "
       ]
      },
      {
       "output_type": "stream",
       "stream": "stdout",
       "text": [
        "132000 47 "
       ]
      },
      {
       "output_type": "stream",
       "stream": "stdout",
       "text": [
        "133000 47 "
       ]
      },
      {
       "output_type": "stream",
       "stream": "stdout",
       "text": [
        "134000 47 "
       ]
      },
      {
       "output_type": "stream",
       "stream": "stdout",
       "text": [
        "135000 48 "
       ]
      },
      {
       "output_type": "stream",
       "stream": "stdout",
       "text": [
        "136000 48 "
       ]
      },
      {
       "output_type": "stream",
       "stream": "stdout",
       "text": [
        "137000 48 "
       ]
      },
      {
       "output_type": "stream",
       "stream": "stdout",
       "text": [
        "138000 49 "
       ]
      },
      {
       "output_type": "stream",
       "stream": "stdout",
       "text": [
        "139000 49 "
       ]
      },
      {
       "output_type": "stream",
       "stream": "stdout",
       "text": [
        "140000 49 \n",
        "2016-02-14 18:00:44.082084\n",
        "141000"
       ]
      },
      {
       "output_type": "stream",
       "stream": "stdout",
       "text": [
        " 49 "
       ]
      },
      {
       "output_type": "stream",
       "stream": "stdout",
       "text": [
        "142000 50 "
       ]
      },
      {
       "output_type": "stream",
       "stream": "stdout",
       "text": [
        "143000 50 "
       ]
      },
      {
       "output_type": "stream",
       "stream": "stdout",
       "text": [
        "144000 51 "
       ]
      },
      {
       "output_type": "stream",
       "stream": "stdout",
       "text": [
        "145000 51 "
       ]
      },
      {
       "output_type": "stream",
       "stream": "stdout",
       "text": [
        "146000 51 "
       ]
      },
      {
       "output_type": "stream",
       "stream": "stdout",
       "text": [
        "147000 52 "
       ]
      },
      {
       "output_type": "stream",
       "stream": "stdout",
       "text": [
        "148000 54 "
       ]
      },
      {
       "output_type": "stream",
       "stream": "stdout",
       "text": [
        "149000 54 "
       ]
      },
      {
       "output_type": "stream",
       "stream": "stdout",
       "text": [
        "150000 54 \n",
        "2016-02-14 18:00:57.653926\n",
        "151000"
       ]
      },
      {
       "output_type": "stream",
       "stream": "stdout",
       "text": [
        " 55 "
       ]
      },
      {
       "output_type": "stream",
       "stream": "stdout",
       "text": [
        "152000 55 "
       ]
      },
      {
       "output_type": "stream",
       "stream": "stdout",
       "text": [
        "153000 55 "
       ]
      },
      {
       "output_type": "stream",
       "stream": "stdout",
       "text": [
        "154000 55 "
       ]
      },
      {
       "output_type": "stream",
       "stream": "stdout",
       "text": [
        "155000 56 "
       ]
      },
      {
       "output_type": "stream",
       "stream": "stdout",
       "text": [
        "156000 56 "
       ]
      },
      {
       "output_type": "stream",
       "stream": "stdout",
       "text": [
        "157000 56 "
       ]
      },
      {
       "output_type": "stream",
       "stream": "stdout",
       "text": [
        "158000 56 "
       ]
      },
      {
       "output_type": "stream",
       "stream": "stdout",
       "text": [
        "159000 56 "
       ]
      },
      {
       "output_type": "stream",
       "stream": "stdout",
       "text": [
        "160000 56 \n",
        "2016-02-14 18:01:10.883116\n",
        "161000"
       ]
      },
      {
       "output_type": "stream",
       "stream": "stdout",
       "text": [
        " 56 "
       ]
      },
      {
       "output_type": "stream",
       "stream": "stdout",
       "text": [
        "162000 57 "
       ]
      },
      {
       "output_type": "stream",
       "stream": "stdout",
       "text": [
        "163000 57 "
       ]
      },
      {
       "output_type": "stream",
       "stream": "stdout",
       "text": [
        "164000 57 "
       ]
      },
      {
       "output_type": "stream",
       "stream": "stdout",
       "text": [
        "165000 57 "
       ]
      },
      {
       "output_type": "stream",
       "stream": "stdout",
       "text": [
        "166000 59 "
       ]
      },
      {
       "output_type": "stream",
       "stream": "stdout",
       "text": [
        "167000 59 "
       ]
      },
      {
       "output_type": "stream",
       "stream": "stdout",
       "text": [
        "168000 60 "
       ]
      },
      {
       "output_type": "stream",
       "stream": "stdout",
       "text": [
        "169000 60 "
       ]
      },
      {
       "output_type": "stream",
       "stream": "stdout",
       "text": [
        "170000 60 \n",
        "2016-02-14 18:01:24.526807\n",
        "171000"
       ]
      },
      {
       "output_type": "stream",
       "stream": "stdout",
       "text": [
        " 60 "
       ]
      },
      {
       "output_type": "stream",
       "stream": "stdout",
       "text": [
        "172000 60 "
       ]
      },
      {
       "output_type": "stream",
       "stream": "stdout",
       "text": [
        "173000 60 "
       ]
      },
      {
       "output_type": "stream",
       "stream": "stdout",
       "text": [
        "174000 60 "
       ]
      },
      {
       "output_type": "stream",
       "stream": "stdout",
       "text": [
        "175000 60 "
       ]
      },
      {
       "output_type": "stream",
       "stream": "stdout",
       "text": [
        "176000 63 "
       ]
      },
      {
       "output_type": "stream",
       "stream": "stdout",
       "text": [
        "177000 63 "
       ]
      },
      {
       "output_type": "stream",
       "stream": "stdout",
       "text": [
        "178000 63 "
       ]
      },
      {
       "output_type": "stream",
       "stream": "stdout",
       "text": [
        "179000 63 "
       ]
      },
      {
       "output_type": "stream",
       "stream": "stdout",
       "text": [
        "180000 63 \n",
        "2016-02-14 18:01:37.963932\n",
        "181000"
       ]
      },
      {
       "output_type": "stream",
       "stream": "stdout",
       "text": [
        " 63 "
       ]
      },
      {
       "output_type": "stream",
       "stream": "stdout",
       "text": [
        "182000 65 "
       ]
      },
      {
       "output_type": "stream",
       "stream": "stdout",
       "text": [
        "183000 65 "
       ]
      },
      {
       "output_type": "stream",
       "stream": "stdout",
       "text": [
        "184000 65 "
       ]
      },
      {
       "output_type": "stream",
       "stream": "stdout",
       "text": [
        "185000 66 "
       ]
      },
      {
       "output_type": "stream",
       "stream": "stdout",
       "text": [
        "186000 66 "
       ]
      },
      {
       "output_type": "stream",
       "stream": "stdout",
       "text": [
        "187000 66 "
       ]
      },
      {
       "output_type": "stream",
       "stream": "stdout",
       "text": [
        "188000 66 "
       ]
      },
      {
       "output_type": "stream",
       "stream": "stdout",
       "text": [
        "189000 66 "
       ]
      },
      {
       "output_type": "stream",
       "stream": "stdout",
       "text": [
        "190000 66 \n",
        "2016-02-14 18:01:50.721546\n",
        "191000"
       ]
      },
      {
       "output_type": "stream",
       "stream": "stdout",
       "text": [
        " 66 "
       ]
      },
      {
       "output_type": "stream",
       "stream": "stdout",
       "text": [
        "192000 67 "
       ]
      },
      {
       "output_type": "stream",
       "stream": "stdout",
       "text": [
        "193000 68 "
       ]
      },
      {
       "output_type": "stream",
       "stream": "stdout",
       "text": [
        "194000 69 "
       ]
      },
      {
       "output_type": "stream",
       "stream": "stdout",
       "text": [
        "195000 70 "
       ]
      },
      {
       "output_type": "stream",
       "stream": "stdout",
       "text": [
        "196000 70 "
       ]
      },
      {
       "output_type": "stream",
       "stream": "stdout",
       "text": [
        "197000 70 "
       ]
      },
      {
       "output_type": "stream",
       "stream": "stdout",
       "text": [
        "198000 71 "
       ]
      },
      {
       "output_type": "stream",
       "stream": "stdout",
       "text": [
        "199000 72 "
       ]
      },
      {
       "output_type": "stream",
       "stream": "stdout",
       "text": [
        "200000 72 \n",
        "2016-02-14 18:02:04.367004\n",
        "201000"
       ]
      },
      {
       "output_type": "stream",
       "stream": "stdout",
       "text": [
        " 72 "
       ]
      },
      {
       "output_type": "stream",
       "stream": "stdout",
       "text": [
        "202000 72 "
       ]
      },
      {
       "output_type": "stream",
       "stream": "stdout",
       "text": [
        "203000 72 "
       ]
      },
      {
       "output_type": "stream",
       "stream": "stdout",
       "text": [
        "204000 72 "
       ]
      },
      {
       "output_type": "stream",
       "stream": "stdout",
       "text": [
        "205000 72 "
       ]
      },
      {
       "output_type": "stream",
       "stream": "stdout",
       "text": [
        "206000 72 "
       ]
      },
      {
       "output_type": "stream",
       "stream": "stdout",
       "text": [
        "207000 72 "
       ]
      },
      {
       "output_type": "stream",
       "stream": "stdout",
       "text": [
        "208000 72 "
       ]
      },
      {
       "output_type": "stream",
       "stream": "stdout",
       "text": [
        "209000 72 "
       ]
      },
      {
       "output_type": "stream",
       "stream": "stdout",
       "text": [
        "210000 72 \n",
        "2016-02-14 18:02:17.840224\n",
        "211000"
       ]
      },
      {
       "output_type": "stream",
       "stream": "stdout",
       "text": [
        " 72 "
       ]
      },
      {
       "output_type": "stream",
       "stream": "stdout",
       "text": [
        "212000 72 "
       ]
      },
      {
       "output_type": "stream",
       "stream": "stdout",
       "text": [
        "213000 72 "
       ]
      },
      {
       "output_type": "stream",
       "stream": "stdout",
       "text": [
        "214000 72 "
       ]
      },
      {
       "output_type": "stream",
       "stream": "stdout",
       "text": [
        "215000 72 "
       ]
      },
      {
       "output_type": "stream",
       "stream": "stdout",
       "text": [
        "216000 72 "
       ]
      },
      {
       "output_type": "stream",
       "stream": "stdout",
       "text": [
        "217000 72 "
       ]
      },
      {
       "output_type": "stream",
       "stream": "stdout",
       "text": [
        "218000 72 "
       ]
      },
      {
       "output_type": "stream",
       "stream": "stdout",
       "text": [
        "219000 76 "
       ]
      },
      {
       "output_type": "stream",
       "stream": "stdout",
       "text": [
        "220000 76 \n",
        "2016-02-14 18:02:32.416742\n",
        "221000"
       ]
      },
      {
       "output_type": "stream",
       "stream": "stdout",
       "text": [
        " 76 "
       ]
      },
      {
       "output_type": "stream",
       "stream": "stdout",
       "text": [
        "222000 77 "
       ]
      },
      {
       "output_type": "stream",
       "stream": "stdout",
       "text": [
        "223000 77 "
       ]
      },
      {
       "output_type": "stream",
       "stream": "stdout",
       "text": [
        "224000 78 "
       ]
      },
      {
       "output_type": "stream",
       "stream": "stdout",
       "text": [
        "225000 78 "
       ]
      },
      {
       "output_type": "stream",
       "stream": "stdout",
       "text": [
        "226000 78 "
       ]
      },
      {
       "output_type": "stream",
       "stream": "stdout",
       "text": [
        "227000 79 "
       ]
      },
      {
       "output_type": "stream",
       "stream": "stdout",
       "text": [
        "228000 79 "
       ]
      },
      {
       "output_type": "stream",
       "stream": "stdout",
       "text": [
        "229000 83 "
       ]
      },
      {
       "output_type": "stream",
       "stream": "stdout",
       "text": [
        "230000 85 \n",
        "2016-02-14 18:02:47.444413\n",
        "231000"
       ]
      },
      {
       "output_type": "stream",
       "stream": "stdout",
       "text": [
        " 85 "
       ]
      },
      {
       "output_type": "stream",
       "stream": "stdout",
       "text": [
        "232000 85 "
       ]
      },
      {
       "output_type": "stream",
       "stream": "stdout",
       "text": [
        "233000 85 "
       ]
      },
      {
       "output_type": "stream",
       "stream": "stdout",
       "text": [
        "234000 85 "
       ]
      },
      {
       "output_type": "stream",
       "stream": "stdout",
       "text": [
        "235000 86 "
       ]
      },
      {
       "output_type": "stream",
       "stream": "stdout",
       "text": [
        "236000 87 "
       ]
      },
      {
       "output_type": "stream",
       "stream": "stdout",
       "text": [
        "237000 87 "
       ]
      },
      {
       "output_type": "stream",
       "stream": "stdout",
       "text": [
        "238000 87 "
       ]
      },
      {
       "output_type": "stream",
       "stream": "stdout",
       "text": [
        "239000 87 "
       ]
      },
      {
       "output_type": "stream",
       "stream": "stdout",
       "text": [
        "240000 87 \n",
        "2016-02-14 18:03:05.769499\n",
        "241000"
       ]
      },
      {
       "output_type": "stream",
       "stream": "stdout",
       "text": [
        " 87 "
       ]
      },
      {
       "output_type": "stream",
       "stream": "stdout",
       "text": [
        "242000 87 "
       ]
      },
      {
       "output_type": "stream",
       "stream": "stdout",
       "text": [
        "243000 88 "
       ]
      },
      {
       "output_type": "stream",
       "stream": "stdout",
       "text": [
        "244000 88 "
       ]
      },
      {
       "output_type": "stream",
       "stream": "stdout",
       "text": [
        "245000 88 "
       ]
      },
      {
       "output_type": "stream",
       "stream": "stdout",
       "text": [
        "246000 88 "
       ]
      },
      {
       "output_type": "stream",
       "stream": "stdout",
       "text": [
        "247000 88 "
       ]
      },
      {
       "output_type": "stream",
       "stream": "stdout",
       "text": [
        "248000 88 "
       ]
      },
      {
       "output_type": "stream",
       "stream": "stdout",
       "text": [
        "249000 88 "
       ]
      },
      {
       "output_type": "stream",
       "stream": "stdout",
       "text": [
        "250000 88 \n",
        "2016-02-14 18:03:22.770719\n",
        "251000"
       ]
      },
      {
       "output_type": "stream",
       "stream": "stdout",
       "text": [
        " 88 "
       ]
      },
      {
       "output_type": "stream",
       "stream": "stdout",
       "text": [
        "252000 88 "
       ]
      },
      {
       "output_type": "stream",
       "stream": "stdout",
       "text": [
        "253000 88 "
       ]
      },
      {
       "output_type": "stream",
       "stream": "stdout",
       "text": [
        "254000 88 "
       ]
      },
      {
       "output_type": "stream",
       "stream": "stdout",
       "text": [
        "255000 88 "
       ]
      },
      {
       "output_type": "stream",
       "stream": "stdout",
       "text": [
        "256000 88 "
       ]
      },
      {
       "output_type": "stream",
       "stream": "stdout",
       "text": [
        "257000 89 "
       ]
      },
      {
       "output_type": "stream",
       "stream": "stdout",
       "text": [
        "258000 91 "
       ]
      },
      {
       "output_type": "stream",
       "stream": "stdout",
       "text": [
        "259000 91 "
       ]
      },
      {
       "output_type": "stream",
       "stream": "stdout",
       "text": [
        "260000 91 \n",
        "2016-02-14 18:03:38.587408\n",
        "261000"
       ]
      },
      {
       "output_type": "stream",
       "stream": "stdout",
       "text": [
        " 91 "
       ]
      },
      {
       "output_type": "stream",
       "stream": "stdout",
       "text": [
        "262000 93 "
       ]
      },
      {
       "output_type": "stream",
       "stream": "stdout",
       "text": [
        "263000 94 "
       ]
      },
      {
       "output_type": "stream",
       "stream": "stdout",
       "text": [
        "264000 94 "
       ]
      },
      {
       "output_type": "stream",
       "stream": "stdout",
       "text": [
        "265000 94 "
       ]
      },
      {
       "output_type": "stream",
       "stream": "stdout",
       "text": [
        "266000 94 "
       ]
      },
      {
       "output_type": "stream",
       "stream": "stdout",
       "text": [
        "267000 94 "
       ]
      },
      {
       "output_type": "stream",
       "stream": "stdout",
       "text": [
        "268000 97 "
       ]
      },
      {
       "output_type": "stream",
       "stream": "stdout",
       "text": [
        "269000 98 "
       ]
      },
      {
       "output_type": "stream",
       "stream": "stdout",
       "text": [
        "270000 98 \n",
        "2016-02-14 18:03:53.473220\n",
        "271000"
       ]
      },
      {
       "output_type": "stream",
       "stream": "stdout",
       "text": [
        " 98 "
       ]
      },
      {
       "output_type": "stream",
       "stream": "stdout",
       "text": [
        "272000 99 "
       ]
      },
      {
       "output_type": "stream",
       "stream": "stdout",
       "text": [
        "273000 99 "
       ]
      },
      {
       "output_type": "stream",
       "stream": "stdout",
       "text": [
        "274000 99 "
       ]
      },
      {
       "output_type": "stream",
       "stream": "stdout",
       "text": [
        "275000 99 "
       ]
      },
      {
       "output_type": "stream",
       "stream": "stdout",
       "text": [
        "276000 99 "
       ]
      },
      {
       "output_type": "stream",
       "stream": "stdout",
       "text": [
        "277000 100 "
       ]
      },
      {
       "output_type": "stream",
       "stream": "stdout",
       "text": [
        "278000 100 "
       ]
      },
      {
       "output_type": "stream",
       "stream": "stdout",
       "text": [
        "279000 100 "
       ]
      },
      {
       "output_type": "stream",
       "stream": "stdout",
       "text": [
        "280000 100 \n",
        "2016-02-14 18:04:09.212790\n",
        "281000"
       ]
      },
      {
       "output_type": "stream",
       "stream": "stdout",
       "text": [
        " 100 "
       ]
      },
      {
       "output_type": "stream",
       "stream": "stdout",
       "text": [
        "282000 101 "
       ]
      },
      {
       "output_type": "stream",
       "stream": "stdout",
       "text": [
        "283000 102 "
       ]
      },
      {
       "output_type": "stream",
       "stream": "stdout",
       "text": [
        "284000 106 "
       ]
      },
      {
       "output_type": "stream",
       "stream": "stdout",
       "text": [
        "285000 106 "
       ]
      },
      {
       "output_type": "stream",
       "stream": "stdout",
       "text": [
        "286000 106 "
       ]
      },
      {
       "output_type": "stream",
       "stream": "stdout",
       "text": [
        "287000 106 "
       ]
      },
      {
       "output_type": "stream",
       "stream": "stdout",
       "text": [
        "288000 107 "
       ]
      },
      {
       "output_type": "stream",
       "stream": "stdout",
       "text": [
        "289000 108 "
       ]
      },
      {
       "output_type": "stream",
       "stream": "stdout",
       "text": [
        "290000 109 \n",
        "2016-02-14 18:04:24.901304\n",
        "291000"
       ]
      },
      {
       "output_type": "stream",
       "stream": "stdout",
       "text": [
        " 109 "
       ]
      },
      {
       "output_type": "stream",
       "stream": "stdout",
       "text": [
        "292000 110 "
       ]
      },
      {
       "output_type": "stream",
       "stream": "stdout",
       "text": [
        "293000 110 "
       ]
      },
      {
       "output_type": "stream",
       "stream": "stdout",
       "text": [
        "294000 110 "
       ]
      },
      {
       "output_type": "stream",
       "stream": "stdout",
       "text": [
        "295000 111 "
       ]
      },
      {
       "output_type": "stream",
       "stream": "stdout",
       "text": [
        "296000 114 "
       ]
      },
      {
       "output_type": "stream",
       "stream": "stdout",
       "text": [
        "297000 114 "
       ]
      },
      {
       "output_type": "stream",
       "stream": "stdout",
       "text": [
        "298000 114 "
       ]
      },
      {
       "output_type": "stream",
       "stream": "stdout",
       "text": [
        "299000 114 "
       ]
      },
      {
       "output_type": "stream",
       "stream": "stdout",
       "text": [
        "300000 114 \n",
        "2016-02-14 18:04:41.964728\n",
        "301000"
       ]
      },
      {
       "output_type": "stream",
       "stream": "stdout",
       "text": [
        " 114 "
       ]
      },
      {
       "output_type": "stream",
       "stream": "stdout",
       "text": [
        "302000 114 "
       ]
      },
      {
       "output_type": "stream",
       "stream": "stdout",
       "text": [
        "303000 114 "
       ]
      },
      {
       "output_type": "stream",
       "stream": "stdout",
       "text": [
        "304000 114 "
       ]
      },
      {
       "output_type": "stream",
       "stream": "stdout",
       "text": [
        "305000 114 "
       ]
      },
      {
       "output_type": "stream",
       "stream": "stdout",
       "text": [
        "306000 115 "
       ]
      },
      {
       "output_type": "stream",
       "stream": "stdout",
       "text": [
        "307000 115 "
       ]
      },
      {
       "output_type": "stream",
       "stream": "stdout",
       "text": [
        "308000 116 "
       ]
      },
      {
       "output_type": "stream",
       "stream": "stdout",
       "text": [
        "309000 116 "
       ]
      },
      {
       "output_type": "stream",
       "stream": "stdout",
       "text": [
        "310000 118 \n",
        "2016-02-14 18:04:57.453528\n",
        "311000"
       ]
      },
      {
       "output_type": "stream",
       "stream": "stdout",
       "text": [
        " 121 "
       ]
      },
      {
       "output_type": "stream",
       "stream": "stdout",
       "text": [
        "312000 122 "
       ]
      },
      {
       "output_type": "stream",
       "stream": "stdout",
       "text": [
        "313000 124 "
       ]
      },
      {
       "output_type": "stream",
       "stream": "stdout",
       "text": [
        "314000 127 "
       ]
      },
      {
       "output_type": "stream",
       "stream": "stdout",
       "text": [
        "315000 127 "
       ]
      },
      {
       "output_type": "stream",
       "stream": "stdout",
       "text": [
        "316000 128 "
       ]
      },
      {
       "output_type": "stream",
       "stream": "stdout",
       "text": [
        "317000 128 "
       ]
      },
      {
       "output_type": "stream",
       "stream": "stdout",
       "text": [
        "318000 130 "
       ]
      },
      {
       "output_type": "stream",
       "stream": "stdout",
       "text": [
        "319000 131 "
       ]
      },
      {
       "output_type": "stream",
       "stream": "stdout",
       "text": [
        "320000 131 \n",
        "2016-02-14 18:05:12.977810\n",
        "321000"
       ]
      },
      {
       "output_type": "stream",
       "stream": "stdout",
       "text": [
        " 131 "
       ]
      },
      {
       "output_type": "stream",
       "stream": "stdout",
       "text": [
        "322000 131 "
       ]
      },
      {
       "output_type": "stream",
       "stream": "stdout",
       "text": [
        "323000 131 "
       ]
      },
      {
       "output_type": "stream",
       "stream": "stdout",
       "text": [
        "324000 131 "
       ]
      },
      {
       "output_type": "stream",
       "stream": "stdout",
       "text": [
        "325000 131 "
       ]
      },
      {
       "output_type": "stream",
       "stream": "stdout",
       "text": [
        "326000 132 "
       ]
      },
      {
       "output_type": "stream",
       "stream": "stdout",
       "text": [
        "327000 133 "
       ]
      },
      {
       "output_type": "stream",
       "stream": "stdout",
       "text": [
        "328000 134 "
       ]
      },
      {
       "output_type": "stream",
       "stream": "stdout",
       "text": [
        "329000 135 "
       ]
      },
      {
       "output_type": "stream",
       "stream": "stdout",
       "text": [
        "330000 136 \n",
        "2016-02-14 18:05:27.617404\n",
        "331000"
       ]
      },
      {
       "output_type": "stream",
       "stream": "stdout",
       "text": [
        " 136 "
       ]
      },
      {
       "output_type": "stream",
       "stream": "stdout",
       "text": [
        "332000 136 "
       ]
      },
      {
       "output_type": "stream",
       "stream": "stdout",
       "text": [
        "333000 136 "
       ]
      },
      {
       "output_type": "stream",
       "stream": "stdout",
       "text": [
        "334000 136 "
       ]
      },
      {
       "output_type": "stream",
       "stream": "stdout",
       "text": [
        "335000 136 "
       ]
      },
      {
       "output_type": "stream",
       "stream": "stdout",
       "text": [
        "336000 136 "
       ]
      },
      {
       "output_type": "stream",
       "stream": "stdout",
       "text": [
        "337000 136 "
       ]
      },
      {
       "output_type": "stream",
       "stream": "stdout",
       "text": [
        "338000 136 "
       ]
      },
      {
       "output_type": "stream",
       "stream": "stdout",
       "text": [
        "339000 136 "
       ]
      },
      {
       "output_type": "stream",
       "stream": "stdout",
       "text": [
        "340000 138 \n",
        "2016-02-14 18:05:42.710559\n",
        "341000"
       ]
      },
      {
       "output_type": "stream",
       "stream": "stdout",
       "text": [
        " 138 "
       ]
      },
      {
       "output_type": "stream",
       "stream": "stdout",
       "text": [
        "342000 138 "
       ]
      },
      {
       "output_type": "stream",
       "stream": "stdout",
       "text": [
        "343000 138 "
       ]
      },
      {
       "output_type": "stream",
       "stream": "stdout",
       "text": [
        "344000 138 "
       ]
      },
      {
       "output_type": "stream",
       "stream": "stdout",
       "text": [
        "345000 140 "
       ]
      },
      {
       "output_type": "stream",
       "stream": "stdout",
       "text": [
        "346000 140 "
       ]
      },
      {
       "output_type": "stream",
       "stream": "stdout",
       "text": [
        "347000 140 "
       ]
      },
      {
       "output_type": "stream",
       "stream": "stdout",
       "text": [
        "348000 140 "
       ]
      },
      {
       "output_type": "stream",
       "stream": "stdout",
       "text": [
        "349000 140 "
       ]
      },
      {
       "output_type": "stream",
       "stream": "stdout",
       "text": [
        "350000 140 \n",
        "2016-02-14 18:05:57.899125\n",
        "351000"
       ]
      },
      {
       "output_type": "stream",
       "stream": "stdout",
       "text": [
        " 141 "
       ]
      },
      {
       "output_type": "stream",
       "stream": "stdout",
       "text": [
        "352000 142 "
       ]
      },
      {
       "output_type": "stream",
       "stream": "stdout",
       "text": [
        "353000 142 "
       ]
      },
      {
       "output_type": "stream",
       "stream": "stdout",
       "text": [
        "354000 142 "
       ]
      },
      {
       "output_type": "stream",
       "stream": "stdout",
       "text": [
        "355000 142 "
       ]
      },
      {
       "output_type": "stream",
       "stream": "stdout",
       "text": [
        "356000 142 "
       ]
      },
      {
       "output_type": "stream",
       "stream": "stdout",
       "text": [
        "357000 142 "
       ]
      },
      {
       "output_type": "stream",
       "stream": "stdout",
       "text": [
        "358000 142 "
       ]
      },
      {
       "output_type": "stream",
       "stream": "stdout",
       "text": [
        "359000 142 "
       ]
      },
      {
       "output_type": "stream",
       "stream": "stdout",
       "text": [
        "360000 142 \n",
        "2016-02-14 18:06:12.539574\n",
        "361000"
       ]
      },
      {
       "output_type": "stream",
       "stream": "stdout",
       "text": [
        " 142 "
       ]
      },
      {
       "output_type": "stream",
       "stream": "stdout",
       "text": [
        "362000 142 "
       ]
      },
      {
       "output_type": "stream",
       "stream": "stdout",
       "text": [
        "363000 142 "
       ]
      },
      {
       "output_type": "stream",
       "stream": "stdout",
       "text": [
        "364000 144 "
       ]
      },
      {
       "output_type": "stream",
       "stream": "stdout",
       "text": [
        "365000 148 "
       ]
      },
      {
       "output_type": "stream",
       "stream": "stdout",
       "text": [
        "366000 148 "
       ]
      },
      {
       "output_type": "stream",
       "stream": "stdout",
       "text": [
        "367000 148 "
       ]
      },
      {
       "output_type": "stream",
       "stream": "stdout",
       "text": [
        "368000 150 "
       ]
      },
      {
       "output_type": "stream",
       "stream": "stdout",
       "text": [
        "369000 151 "
       ]
      },
      {
       "output_type": "stream",
       "stream": "stdout",
       "text": [
        "370000 151 \n",
        "2016-02-14 18:06:26.491153\n",
        "371000"
       ]
      },
      {
       "output_type": "stream",
       "stream": "stdout",
       "text": [
        " 151 "
       ]
      },
      {
       "output_type": "stream",
       "stream": "stdout",
       "text": [
        "372000 151 "
       ]
      },
      {
       "output_type": "stream",
       "stream": "stdout",
       "text": [
        "373000 151 "
       ]
      },
      {
       "output_type": "stream",
       "stream": "stdout",
       "text": [
        "374000 151 "
       ]
      },
      {
       "output_type": "stream",
       "stream": "stdout",
       "text": [
        "375000 152 "
       ]
      },
      {
       "output_type": "stream",
       "stream": "stdout",
       "text": [
        "376000 152 "
       ]
      },
      {
       "output_type": "stream",
       "stream": "stdout",
       "text": [
        "377000 152 "
       ]
      },
      {
       "output_type": "stream",
       "stream": "stdout",
       "text": [
        "378000 152 "
       ]
      },
      {
       "output_type": "stream",
       "stream": "stdout",
       "text": [
        "379000 152 "
       ]
      },
      {
       "output_type": "stream",
       "stream": "stdout",
       "text": [
        "380000 153 \n",
        "2016-02-14 18:06:42.208146\n",
        "381000"
       ]
      },
      {
       "output_type": "stream",
       "stream": "stdout",
       "text": [
        " 153 "
       ]
      },
      {
       "output_type": "stream",
       "stream": "stdout",
       "text": [
        "382000 153 "
       ]
      },
      {
       "output_type": "stream",
       "stream": "stdout",
       "text": [
        "383000 155 "
       ]
      },
      {
       "output_type": "stream",
       "stream": "stdout",
       "text": [
        "384000 155 "
       ]
      },
      {
       "output_type": "stream",
       "stream": "stdout",
       "text": [
        "385000 156 "
       ]
      },
      {
       "output_type": "stream",
       "stream": "stdout",
       "text": [
        "386000 157 "
       ]
      },
      {
       "output_type": "stream",
       "stream": "stdout",
       "text": [
        "387000 157 "
       ]
      },
      {
       "output_type": "stream",
       "stream": "stdout",
       "text": [
        "388000 157 "
       ]
      },
      {
       "output_type": "stream",
       "stream": "stdout",
       "text": [
        "389000 157 "
       ]
      },
      {
       "output_type": "stream",
       "stream": "stdout",
       "text": [
        "390000 157 \n",
        "2016-02-14 18:06:57.660575\n",
        "391000"
       ]
      },
      {
       "output_type": "stream",
       "stream": "stdout",
       "text": [
        " 157 "
       ]
      },
      {
       "output_type": "stream",
       "stream": "stdout",
       "text": [
        "392000 158 "
       ]
      },
      {
       "output_type": "stream",
       "stream": "stdout",
       "text": [
        "393000 158 "
       ]
      },
      {
       "output_type": "stream",
       "stream": "stdout",
       "text": [
        "394000 158 "
       ]
      },
      {
       "output_type": "stream",
       "stream": "stdout",
       "text": [
        "395000 158 "
       ]
      },
      {
       "output_type": "stream",
       "stream": "stdout",
       "text": [
        "396000 159 "
       ]
      },
      {
       "output_type": "stream",
       "stream": "stdout",
       "text": [
        "397000 159 "
       ]
      },
      {
       "output_type": "stream",
       "stream": "stdout",
       "text": [
        "398000 162 "
       ]
      },
      {
       "output_type": "stream",
       "stream": "stdout",
       "text": [
        "399000 162 "
       ]
      },
      {
       "output_type": "stream",
       "stream": "stdout",
       "text": [
        "400000 164 \n",
        "2016-02-14 18:07:12.485691\n",
        "401000"
       ]
      },
      {
       "output_type": "stream",
       "stream": "stdout",
       "text": [
        " 166 "
       ]
      },
      {
       "output_type": "stream",
       "stream": "stdout",
       "text": [
        "402000 166 "
       ]
      },
      {
       "output_type": "stream",
       "stream": "stdout",
       "text": [
        "403000 167 "
       ]
      },
      {
       "output_type": "stream",
       "stream": "stdout",
       "text": [
        "404000 167 "
       ]
      },
      {
       "output_type": "stream",
       "stream": "stdout",
       "text": [
        "405000 168 "
       ]
      },
      {
       "output_type": "stream",
       "stream": "stdout",
       "text": [
        "406000 169 "
       ]
      },
      {
       "output_type": "stream",
       "stream": "stdout",
       "text": [
        "407000 169 "
       ]
      },
      {
       "output_type": "stream",
       "stream": "stdout",
       "text": [
        "408000 169 "
       ]
      },
      {
       "output_type": "stream",
       "stream": "stdout",
       "text": [
        "409000 169 "
       ]
      },
      {
       "output_type": "stream",
       "stream": "stdout",
       "text": [
        "410000 170 \n",
        "2016-02-14 18:07:27.578718\n",
        "411000"
       ]
      },
      {
       "output_type": "stream",
       "stream": "stdout",
       "text": [
        " 170 "
       ]
      },
      {
       "output_type": "stream",
       "stream": "stdout",
       "text": [
        "412000 172 "
       ]
      },
      {
       "output_type": "stream",
       "stream": "stdout",
       "text": [
        "413000 172 "
       ]
      },
      {
       "output_type": "stream",
       "stream": "stdout",
       "text": [
        "414000 174 "
       ]
      },
      {
       "output_type": "stream",
       "stream": "stdout",
       "text": [
        "415000 175 "
       ]
      },
      {
       "output_type": "stream",
       "stream": "stdout",
       "text": [
        "416000 175 "
       ]
      },
      {
       "output_type": "stream",
       "stream": "stdout",
       "text": [
        "417000 175 "
       ]
      },
      {
       "output_type": "stream",
       "stream": "stdout",
       "text": [
        "418000 175 "
       ]
      },
      {
       "output_type": "stream",
       "stream": "stdout",
       "text": [
        "419000 176 "
       ]
      },
      {
       "output_type": "stream",
       "stream": "stdout",
       "text": [
        "420000 176 \n",
        "2016-02-14 18:07:42.129392\n",
        "421000"
       ]
      },
      {
       "output_type": "stream",
       "stream": "stdout",
       "text": [
        " 177 "
       ]
      },
      {
       "output_type": "stream",
       "stream": "stdout",
       "text": [
        "422000 178 "
       ]
      },
      {
       "output_type": "stream",
       "stream": "stdout",
       "text": [
        "423000 178 "
       ]
      },
      {
       "output_type": "stream",
       "stream": "stdout",
       "text": [
        "424000 179 "
       ]
      },
      {
       "output_type": "stream",
       "stream": "stdout",
       "text": [
        "425000 179 "
       ]
      },
      {
       "output_type": "stream",
       "stream": "stdout",
       "text": [
        "426000 179 "
       ]
      },
      {
       "output_type": "stream",
       "stream": "stdout",
       "text": [
        "427000 179 "
       ]
      },
      {
       "output_type": "stream",
       "stream": "stdout",
       "text": [
        "428000 179 "
       ]
      },
      {
       "output_type": "stream",
       "stream": "stdout",
       "text": [
        "429000 179 "
       ]
      },
      {
       "output_type": "stream",
       "stream": "stdout",
       "text": [
        "430000 180 \n",
        "2016-02-14 18:07:55.246579\n",
        "431000"
       ]
      },
      {
       "output_type": "stream",
       "stream": "stdout",
       "text": [
        " 181 "
       ]
      },
      {
       "output_type": "stream",
       "stream": "stdout",
       "text": [
        "432000 181 "
       ]
      },
      {
       "output_type": "stream",
       "stream": "stdout",
       "text": [
        "433000 181 "
       ]
      },
      {
       "output_type": "stream",
       "stream": "stdout",
       "text": [
        "434000 181 "
       ]
      },
      {
       "output_type": "stream",
       "stream": "stdout",
       "text": [
        "435000 184 "
       ]
      },
      {
       "output_type": "stream",
       "stream": "stdout",
       "text": [
        "436000 184 "
       ]
      },
      {
       "output_type": "stream",
       "stream": "stdout",
       "text": [
        "437000 188 "
       ]
      },
      {
       "output_type": "stream",
       "stream": "stdout",
       "text": [
        "438000 188 "
       ]
      },
      {
       "output_type": "stream",
       "stream": "stdout",
       "text": [
        "439000 189 "
       ]
      },
      {
       "output_type": "stream",
       "stream": "stdout",
       "text": [
        "440000 190 \n",
        "2016-02-14 18:08:07.241739\n",
        "441000"
       ]
      },
      {
       "output_type": "stream",
       "stream": "stdout",
       "text": [
        " 191 "
       ]
      },
      {
       "output_type": "stream",
       "stream": "stdout",
       "text": [
        "442000 191 "
       ]
      },
      {
       "output_type": "stream",
       "stream": "stdout",
       "text": [
        "443000 193 "
       ]
      },
      {
       "output_type": "stream",
       "stream": "stdout",
       "text": [
        "444000 193 "
       ]
      },
      {
       "output_type": "stream",
       "stream": "stdout",
       "text": [
        "445000 193 "
       ]
      },
      {
       "output_type": "stream",
       "stream": "stdout",
       "text": [
        "446000 194 "
       ]
      },
      {
       "output_type": "stream",
       "stream": "stdout",
       "text": [
        "447000 194 "
       ]
      },
      {
       "output_type": "stream",
       "stream": "stdout",
       "text": [
        "448000 194 "
       ]
      },
      {
       "output_type": "stream",
       "stream": "stdout",
       "text": [
        "449000 194 "
       ]
      },
      {
       "output_type": "stream",
       "stream": "stdout",
       "text": [
        "450000 194 \n",
        "2016-02-14 18:08:21.784986\n",
        "451000"
       ]
      },
      {
       "output_type": "stream",
       "stream": "stdout",
       "text": [
        " 194 "
       ]
      },
      {
       "output_type": "stream",
       "stream": "stdout",
       "text": [
        "452000 194 "
       ]
      },
      {
       "output_type": "stream",
       "stream": "stdout",
       "text": [
        "453000 194 "
       ]
      },
      {
       "output_type": "stream",
       "stream": "stdout",
       "text": [
        "454000 194 "
       ]
      },
      {
       "output_type": "stream",
       "stream": "stdout",
       "text": [
        "455000 194 "
       ]
      },
      {
       "output_type": "stream",
       "stream": "stdout",
       "text": [
        "456000 195 "
       ]
      },
      {
       "output_type": "stream",
       "stream": "stdout",
       "text": [
        "457000 195 "
       ]
      },
      {
       "output_type": "stream",
       "stream": "stdout",
       "text": [
        "458000 195 "
       ]
      },
      {
       "output_type": "stream",
       "stream": "stdout",
       "text": [
        "459000 195 "
       ]
      },
      {
       "output_type": "stream",
       "stream": "stdout",
       "text": [
        "460000 197 \n",
        "2016-02-14 18:08:35.331917\n",
        "461000"
       ]
      },
      {
       "output_type": "stream",
       "stream": "stdout",
       "text": [
        " 198 "
       ]
      },
      {
       "output_type": "stream",
       "stream": "stdout",
       "text": [
        "462000 201 "
       ]
      },
      {
       "output_type": "stream",
       "stream": "stdout",
       "text": [
        "463000 201 "
       ]
      },
      {
       "output_type": "stream",
       "stream": "stdout",
       "text": [
        "464000 201 "
       ]
      },
      {
       "output_type": "stream",
       "stream": "stdout",
       "text": [
        "465000 201 "
       ]
      },
      {
       "output_type": "stream",
       "stream": "stdout",
       "text": [
        "466000 204 "
       ]
      },
      {
       "output_type": "stream",
       "stream": "stdout",
       "text": [
        "467000 204 "
       ]
      },
      {
       "output_type": "stream",
       "stream": "stdout",
       "text": [
        "468000 204 "
       ]
      },
      {
       "output_type": "stream",
       "stream": "stdout",
       "text": [
        "469000 205 "
       ]
      },
      {
       "output_type": "stream",
       "stream": "stdout",
       "text": [
        "470000 205 \n",
        "2016-02-14 18:08:49.411536\n",
        "471000"
       ]
      },
      {
       "output_type": "stream",
       "stream": "stdout",
       "text": [
        " 208 "
       ]
      },
      {
       "output_type": "stream",
       "stream": "stdout",
       "text": [
        "472000 209 "
       ]
      },
      {
       "output_type": "stream",
       "stream": "stdout",
       "text": [
        "473000 209 "
       ]
      },
      {
       "output_type": "stream",
       "stream": "stdout",
       "text": [
        "474000 210 "
       ]
      },
      {
       "output_type": "stream",
       "stream": "stdout",
       "text": [
        "475000 210 "
       ]
      },
      {
       "output_type": "stream",
       "stream": "stdout",
       "text": [
        "476000 211 "
       ]
      },
      {
       "output_type": "stream",
       "stream": "stdout",
       "text": [
        "477000 211 "
       ]
      },
      {
       "output_type": "stream",
       "stream": "stdout",
       "text": [
        "478000 211 "
       ]
      },
      {
       "output_type": "stream",
       "stream": "stdout",
       "text": [
        "479000 211 "
       ]
      },
      {
       "output_type": "stream",
       "stream": "stdout",
       "text": [
        "480000 211 \n",
        "2016-02-14 18:09:02.699379\n",
        "481000"
       ]
      },
      {
       "output_type": "stream",
       "stream": "stdout",
       "text": [
        " 211 "
       ]
      },
      {
       "output_type": "stream",
       "stream": "stdout",
       "text": [
        "482000 211 "
       ]
      },
      {
       "output_type": "stream",
       "stream": "stdout",
       "text": [
        "483000 211 "
       ]
      },
      {
       "output_type": "stream",
       "stream": "stdout",
       "text": [
        "484000 213 "
       ]
      },
      {
       "output_type": "stream",
       "stream": "stdout",
       "text": [
        "485000 213 "
       ]
      },
      {
       "output_type": "stream",
       "stream": "stdout",
       "text": [
        "486000 214 "
       ]
      },
      {
       "output_type": "stream",
       "stream": "stdout",
       "text": [
        "487000 214 "
       ]
      },
      {
       "output_type": "stream",
       "stream": "stdout",
       "text": [
        "488000 214 "
       ]
      },
      {
       "output_type": "stream",
       "stream": "stdout",
       "text": [
        "489000 215 "
       ]
      },
      {
       "output_type": "stream",
       "stream": "stdout",
       "text": [
        "490000 217 \n",
        "2016-02-14 18:09:15.051882\n",
        "491000"
       ]
      },
      {
       "output_type": "stream",
       "stream": "stdout",
       "text": [
        " 217 "
       ]
      },
      {
       "output_type": "stream",
       "stream": "stdout",
       "text": [
        "492000 217 "
       ]
      },
      {
       "output_type": "stream",
       "stream": "stdout",
       "text": [
        "493000 217 "
       ]
      },
      {
       "output_type": "stream",
       "stream": "stdout",
       "text": [
        "494000 217 "
       ]
      },
      {
       "output_type": "stream",
       "stream": "stdout",
       "text": [
        "495000 218 "
       ]
      },
      {
       "output_type": "stream",
       "stream": "stdout",
       "text": [
        "496000 218 "
       ]
      },
      {
       "output_type": "stream",
       "stream": "stdout",
       "text": [
        "497000 218 "
       ]
      },
      {
       "output_type": "stream",
       "stream": "stdout",
       "text": [
        "498000 218 "
       ]
      },
      {
       "output_type": "stream",
       "stream": "stdout",
       "text": [
        "499000 220 "
       ]
      },
      {
       "output_type": "stream",
       "stream": "stdout",
       "text": [
        "500000 222 \n",
        "2016-02-14 18:09:28.316319\n",
        "501000"
       ]
      },
      {
       "output_type": "stream",
       "stream": "stdout",
       "text": [
        " 223 "
       ]
      },
      {
       "output_type": "stream",
       "stream": "stdout",
       "text": [
        "502000 223 "
       ]
      },
      {
       "output_type": "stream",
       "stream": "stdout",
       "text": [
        "503000 223 "
       ]
      },
      {
       "output_type": "stream",
       "stream": "stdout",
       "text": [
        "504000 223 "
       ]
      },
      {
       "output_type": "stream",
       "stream": "stdout",
       "text": [
        "505000 223 "
       ]
      },
      {
       "output_type": "stream",
       "stream": "stdout",
       "text": [
        "506000 223 "
       ]
      },
      {
       "output_type": "stream",
       "stream": "stdout",
       "text": [
        "507000 225 "
       ]
      },
      {
       "output_type": "stream",
       "stream": "stdout",
       "text": [
        "508000 225 "
       ]
      },
      {
       "output_type": "stream",
       "stream": "stdout",
       "text": [
        "509000 225 "
       ]
      },
      {
       "output_type": "stream",
       "stream": "stdout",
       "text": [
        "510000 226 \n",
        "2016-02-14 18:09:42.662575\n",
        "511000"
       ]
      },
      {
       "output_type": "stream",
       "stream": "stdout",
       "text": [
        " 227 "
       ]
      },
      {
       "output_type": "stream",
       "stream": "stdout",
       "text": [
        "512000 228 "
       ]
      },
      {
       "output_type": "stream",
       "stream": "stdout",
       "text": [
        "513000 228 "
       ]
      },
      {
       "output_type": "stream",
       "stream": "stdout",
       "text": [
        "514000 228 "
       ]
      },
      {
       "output_type": "stream",
       "stream": "stdout",
       "text": [
        "515000 228 "
       ]
      },
      {
       "output_type": "stream",
       "stream": "stdout",
       "text": [
        "516000 228 "
       ]
      },
      {
       "output_type": "stream",
       "stream": "stdout",
       "text": [
        "517000 228 "
       ]
      },
      {
       "output_type": "stream",
       "stream": "stdout",
       "text": [
        "518000 229 "
       ]
      },
      {
       "output_type": "stream",
       "stream": "stdout",
       "text": [
        "519000 229 "
       ]
      },
      {
       "output_type": "stream",
       "stream": "stdout",
       "text": [
        "520000 229 \n",
        "2016-02-14 18:09:56.427841\n",
        "521000"
       ]
      },
      {
       "output_type": "stream",
       "stream": "stdout",
       "text": [
        " 229 "
       ]
      },
      {
       "output_type": "stream",
       "stream": "stdout",
       "text": [
        "522000 229 "
       ]
      },
      {
       "output_type": "stream",
       "stream": "stdout",
       "text": [
        "523000 230 "
       ]
      },
      {
       "output_type": "stream",
       "stream": "stdout",
       "text": [
        "524000 230 "
       ]
      },
      {
       "output_type": "stream",
       "stream": "stdout",
       "text": [
        "525000 230 "
       ]
      },
      {
       "output_type": "stream",
       "stream": "stdout",
       "text": [
        "526000 230 "
       ]
      },
      {
       "output_type": "stream",
       "stream": "stdout",
       "text": [
        "527000 230 "
       ]
      },
      {
       "output_type": "stream",
       "stream": "stdout",
       "text": [
        "528000 230 "
       ]
      },
      {
       "output_type": "stream",
       "stream": "stdout",
       "text": [
        "529000 231 "
       ]
      },
      {
       "output_type": "stream",
       "stream": "stdout",
       "text": [
        "530000 231 \n",
        "2016-02-14 18:10:10.549340\n",
        "531000"
       ]
      },
      {
       "output_type": "stream",
       "stream": "stdout",
       "text": [
        " 231 "
       ]
      },
      {
       "output_type": "stream",
       "stream": "stdout",
       "text": [
        "532000 231 "
       ]
      },
      {
       "output_type": "stream",
       "stream": "stdout",
       "text": [
        "533000 232 "
       ]
      },
      {
       "output_type": "stream",
       "stream": "stdout",
       "text": [
        "534000 233 "
       ]
      },
      {
       "output_type": "stream",
       "stream": "stdout",
       "text": [
        "535000 233 "
       ]
      },
      {
       "output_type": "stream",
       "stream": "stdout",
       "text": [
        "536000 233 "
       ]
      },
      {
       "output_type": "stream",
       "stream": "stdout",
       "text": [
        "537000 233 "
       ]
      },
      {
       "output_type": "stream",
       "stream": "stdout",
       "text": [
        "538000 233 "
       ]
      },
      {
       "output_type": "stream",
       "stream": "stdout",
       "text": [
        "539000 233 "
       ]
      },
      {
       "output_type": "stream",
       "stream": "stdout",
       "text": [
        "540000 233 \n",
        "2016-02-14 18:10:22.863500\n",
        "541000"
       ]
      },
      {
       "output_type": "stream",
       "stream": "stdout",
       "text": [
        " 233 "
       ]
      },
      {
       "output_type": "stream",
       "stream": "stdout",
       "text": [
        "542000 235 "
       ]
      },
      {
       "output_type": "stream",
       "stream": "stdout",
       "text": [
        "543000 236 "
       ]
      },
      {
       "output_type": "stream",
       "stream": "stdout",
       "text": [
        "544000 236 "
       ]
      },
      {
       "output_type": "stream",
       "stream": "stdout",
       "text": [
        "545000 236 "
       ]
      },
      {
       "output_type": "stream",
       "stream": "stdout",
       "text": [
        "546000 236 "
       ]
      },
      {
       "output_type": "stream",
       "stream": "stdout",
       "text": [
        "547000 236 "
       ]
      },
      {
       "output_type": "stream",
       "stream": "stdout",
       "text": [
        "548000 237 "
       ]
      },
      {
       "output_type": "stream",
       "stream": "stdout",
       "text": [
        "549000 237 "
       ]
      },
      {
       "output_type": "stream",
       "stream": "stdout",
       "text": [
        "550000 238 \n",
        "2016-02-14 18:10:36.227842\n",
        "551000"
       ]
      },
      {
       "output_type": "stream",
       "stream": "stdout",
       "text": [
        " 238 "
       ]
      },
      {
       "output_type": "stream",
       "stream": "stdout",
       "text": [
        "552000 238 "
       ]
      },
      {
       "output_type": "stream",
       "stream": "stdout",
       "text": [
        "553000 238 "
       ]
      },
      {
       "output_type": "stream",
       "stream": "stdout",
       "text": [
        "554000 238 "
       ]
      },
      {
       "output_type": "stream",
       "stream": "stdout",
       "text": [
        "555000 240 "
       ]
      },
      {
       "output_type": "stream",
       "stream": "stdout",
       "text": [
        "556000 240 "
       ]
      },
      {
       "output_type": "stream",
       "stream": "stdout",
       "text": [
        "557000 240 "
       ]
      },
      {
       "output_type": "stream",
       "stream": "stdout",
       "text": [
        "558000 240 "
       ]
      },
      {
       "output_type": "stream",
       "stream": "stdout",
       "text": [
        "559000 240 "
       ]
      },
      {
       "output_type": "stream",
       "stream": "stdout",
       "text": [
        "560000 241 \n",
        "2016-02-14 18:10:49.546643\n",
        "561000"
       ]
      },
      {
       "output_type": "stream",
       "stream": "stdout",
       "text": [
        " 241 "
       ]
      },
      {
       "output_type": "stream",
       "stream": "stdout",
       "text": [
        "562000 241 "
       ]
      },
      {
       "output_type": "stream",
       "stream": "stdout",
       "text": [
        "563000 241 "
       ]
      },
      {
       "output_type": "stream",
       "stream": "stdout",
       "text": [
        "564000 241 "
       ]
      },
      {
       "output_type": "stream",
       "stream": "stdout",
       "text": [
        "565000 241 "
       ]
      },
      {
       "output_type": "stream",
       "stream": "stdout",
       "text": [
        "566000 241 "
       ]
      },
      {
       "output_type": "stream",
       "stream": "stdout",
       "text": [
        "567000 242 "
       ]
      },
      {
       "output_type": "stream",
       "stream": "stdout",
       "text": [
        "568000 242 "
       ]
      },
      {
       "output_type": "stream",
       "stream": "stdout",
       "text": [
        "569000 242 "
       ]
      },
      {
       "output_type": "stream",
       "stream": "stdout",
       "text": [
        "570000 244 \n",
        "2016-02-14 18:11:03.181463\n",
        "571000"
       ]
      },
      {
       "output_type": "stream",
       "stream": "stdout",
       "text": [
        " 244 "
       ]
      },
      {
       "output_type": "stream",
       "stream": "stdout",
       "text": [
        "572000 244 "
       ]
      },
      {
       "output_type": "stream",
       "stream": "stdout",
       "text": [
        "573000 244 "
       ]
      },
      {
       "output_type": "stream",
       "stream": "stdout",
       "text": [
        "574000 244 "
       ]
      },
      {
       "output_type": "stream",
       "stream": "stdout",
       "text": [
        "575000 244 "
       ]
      },
      {
       "output_type": "stream",
       "stream": "stdout",
       "text": [
        "576000 244 "
       ]
      },
      {
       "output_type": "stream",
       "stream": "stdout",
       "text": [
        "577000 244 "
       ]
      },
      {
       "output_type": "stream",
       "stream": "stdout",
       "text": [
        "578000 244 "
       ]
      },
      {
       "output_type": "stream",
       "stream": "stdout",
       "text": [
        "579000 244 "
       ]
      },
      {
       "output_type": "stream",
       "stream": "stdout",
       "text": [
        "580000 244 \n",
        "2016-02-14 18:11:17.538287\n",
        "581000"
       ]
      },
      {
       "output_type": "stream",
       "stream": "stdout",
       "text": [
        " 244 "
       ]
      },
      {
       "output_type": "stream",
       "stream": "stdout",
       "text": [
        "582000 244 "
       ]
      },
      {
       "output_type": "stream",
       "stream": "stdout",
       "text": [
        "583000 244 "
       ]
      },
      {
       "output_type": "stream",
       "stream": "stdout",
       "text": [
        "584000 246 "
       ]
      },
      {
       "output_type": "stream",
       "stream": "stdout",
       "text": [
        "585000 246 "
       ]
      },
      {
       "output_type": "stream",
       "stream": "stdout",
       "text": [
        "586000 246 "
       ]
      },
      {
       "output_type": "stream",
       "stream": "stdout",
       "text": [
        "587000 246 "
       ]
      },
      {
       "output_type": "stream",
       "stream": "stdout",
       "text": [
        "588000 247 "
       ]
      },
      {
       "output_type": "stream",
       "stream": "stdout",
       "text": [
        "589000 247 "
       ]
      },
      {
       "output_type": "stream",
       "stream": "stdout",
       "text": [
        "590000 247 \n",
        "2016-02-14 18:11:30.653697\n",
        "591000"
       ]
      },
      {
       "output_type": "stream",
       "stream": "stdout",
       "text": [
        " 248 "
       ]
      },
      {
       "output_type": "stream",
       "stream": "stdout",
       "text": [
        "592000 249 "
       ]
      },
      {
       "output_type": "stream",
       "stream": "stdout",
       "text": [
        "593000 249 "
       ]
      },
      {
       "output_type": "stream",
       "stream": "stdout",
       "text": [
        "594000 251 "
       ]
      },
      {
       "output_type": "stream",
       "stream": "stdout",
       "text": [
        "595000 251 "
       ]
      },
      {
       "output_type": "stream",
       "stream": "stdout",
       "text": [
        "596000 253 "
       ]
      },
      {
       "output_type": "stream",
       "stream": "stdout",
       "text": [
        "597000 253 "
       ]
      },
      {
       "output_type": "stream",
       "stream": "stdout",
       "text": [
        "598000 253 "
       ]
      },
      {
       "output_type": "stream",
       "stream": "stdout",
       "text": [
        "599000 253 "
       ]
      },
      {
       "output_type": "stream",
       "stream": "stdout",
       "text": [
        "600000 253 \n",
        "2016-02-14 18:11:44.208686\n",
        "601000"
       ]
      },
      {
       "output_type": "stream",
       "stream": "stdout",
       "text": [
        " 254 "
       ]
      },
      {
       "output_type": "stream",
       "stream": "stdout",
       "text": [
        "602000 254 "
       ]
      },
      {
       "output_type": "stream",
       "stream": "stdout",
       "text": [
        "603000 255 "
       ]
      },
      {
       "output_type": "stream",
       "stream": "stdout",
       "text": [
        "604000 255 "
       ]
      },
      {
       "output_type": "stream",
       "stream": "stdout",
       "text": [
        "605000 255 "
       ]
      },
      {
       "output_type": "stream",
       "stream": "stdout",
       "text": [
        "606000 255 "
       ]
      },
      {
       "output_type": "stream",
       "stream": "stdout",
       "text": [
        "607000 255 "
       ]
      },
      {
       "output_type": "stream",
       "stream": "stdout",
       "text": [
        "608000 255 "
       ]
      },
      {
       "output_type": "stream",
       "stream": "stdout",
       "text": [
        "609000 255 "
       ]
      },
      {
       "output_type": "stream",
       "stream": "stdout",
       "text": [
        "610000 256 \n",
        "2016-02-14 18:11:58.101145\n",
        "611000"
       ]
      },
      {
       "output_type": "stream",
       "stream": "stdout",
       "text": [
        " 257 "
       ]
      },
      {
       "output_type": "stream",
       "stream": "stdout",
       "text": [
        "612000 258 "
       ]
      },
      {
       "output_type": "stream",
       "stream": "stdout",
       "text": [
        "613000 258 "
       ]
      },
      {
       "output_type": "stream",
       "stream": "stdout",
       "text": [
        "614000 258 "
       ]
      },
      {
       "output_type": "stream",
       "stream": "stdout",
       "text": [
        "615000 258 "
       ]
      },
      {
       "output_type": "stream",
       "stream": "stdout",
       "text": [
        "616000 258 "
       ]
      },
      {
       "output_type": "stream",
       "stream": "stdout",
       "text": [
        "617000 258 "
       ]
      },
      {
       "output_type": "stream",
       "stream": "stdout",
       "text": [
        "618000 258 "
       ]
      },
      {
       "output_type": "stream",
       "stream": "stdout",
       "text": [
        "619000 259 "
       ]
      },
      {
       "output_type": "stream",
       "stream": "stdout",
       "text": [
        "620000 259 \n",
        "2016-02-14 18:12:12.964544\n",
        "621000"
       ]
      },
      {
       "output_type": "stream",
       "stream": "stdout",
       "text": [
        " 259 "
       ]
      },
      {
       "output_type": "stream",
       "stream": "stdout",
       "text": [
        "622000 259 "
       ]
      },
      {
       "output_type": "stream",
       "stream": "stdout",
       "text": [
        "623000 259 "
       ]
      },
      {
       "output_type": "stream",
       "stream": "stdout",
       "text": [
        "624000 259 "
       ]
      },
      {
       "output_type": "stream",
       "stream": "stdout",
       "text": [
        "625000 260 "
       ]
      },
      {
       "output_type": "stream",
       "stream": "stdout",
       "text": [
        "626000 260 "
       ]
      },
      {
       "output_type": "stream",
       "stream": "stdout",
       "text": [
        "627000 261 "
       ]
      },
      {
       "output_type": "stream",
       "stream": "stdout",
       "text": [
        "628000 263 "
       ]
      },
      {
       "output_type": "stream",
       "stream": "stdout",
       "text": [
        "629000 263 "
       ]
      },
      {
       "output_type": "stream",
       "stream": "stdout",
       "text": [
        "630000 264 \n",
        "2016-02-14 18:12:26.908449\n",
        "631000"
       ]
      },
      {
       "output_type": "stream",
       "stream": "stdout",
       "text": [
        " 265 "
       ]
      },
      {
       "output_type": "stream",
       "stream": "stdout",
       "text": [
        "632000 265 "
       ]
      },
      {
       "output_type": "stream",
       "stream": "stdout",
       "text": [
        "633000 265 "
       ]
      },
      {
       "output_type": "stream",
       "stream": "stdout",
       "text": [
        "634000 266 "
       ]
      },
      {
       "output_type": "stream",
       "stream": "stdout",
       "text": [
        "635000 266 "
       ]
      },
      {
       "output_type": "stream",
       "stream": "stdout",
       "text": [
        "636000 266 "
       ]
      },
      {
       "output_type": "stream",
       "stream": "stdout",
       "text": [
        "637000 266 "
       ]
      },
      {
       "output_type": "stream",
       "stream": "stdout",
       "text": [
        "638000 269 "
       ]
      },
      {
       "output_type": "stream",
       "stream": "stdout",
       "text": [
        "639000 269 "
       ]
      },
      {
       "output_type": "stream",
       "stream": "stdout",
       "text": [
        "640000 269 \n",
        "2016-02-14 18:12:40.358170\n",
        "641000"
       ]
      },
      {
       "output_type": "stream",
       "stream": "stdout",
       "text": [
        " 269 "
       ]
      },
      {
       "output_type": "stream",
       "stream": "stdout",
       "text": [
        "642000 269 "
       ]
      },
      {
       "output_type": "stream",
       "stream": "stdout",
       "text": [
        "643000 269 "
       ]
      },
      {
       "output_type": "stream",
       "stream": "stdout",
       "text": [
        "644000 269 "
       ]
      },
      {
       "output_type": "stream",
       "stream": "stdout",
       "text": [
        "645000 269 "
       ]
      },
      {
       "output_type": "stream",
       "stream": "stdout",
       "text": [
        "646000 269 "
       ]
      },
      {
       "output_type": "stream",
       "stream": "stdout",
       "text": [
        "647000 269 "
       ]
      },
      {
       "output_type": "stream",
       "stream": "stdout",
       "text": [
        "648000 269 "
       ]
      },
      {
       "output_type": "stream",
       "stream": "stdout",
       "text": [
        "649000 269 "
       ]
      },
      {
       "output_type": "stream",
       "stream": "stdout",
       "text": [
        "650000 269 \n",
        "2016-02-14 18:12:53.928428\n",
        "651000"
       ]
      },
      {
       "output_type": "stream",
       "stream": "stdout",
       "text": [
        " 270 "
       ]
      },
      {
       "output_type": "stream",
       "stream": "stdout",
       "text": [
        "652000 270 "
       ]
      },
      {
       "output_type": "stream",
       "stream": "stdout",
       "text": [
        "653000 270 "
       ]
      },
      {
       "output_type": "stream",
       "stream": "stdout",
       "text": [
        "654000 270 "
       ]
      },
      {
       "output_type": "stream",
       "stream": "stdout",
       "text": [
        "655000 270 "
       ]
      },
      {
       "output_type": "stream",
       "stream": "stdout",
       "text": [
        "656000 270 "
       ]
      },
      {
       "output_type": "stream",
       "stream": "stdout",
       "text": [
        "657000 272 "
       ]
      },
      {
       "output_type": "stream",
       "stream": "stdout",
       "text": [
        "658000 272 "
       ]
      },
      {
       "output_type": "stream",
       "stream": "stdout",
       "text": [
        "659000 273 "
       ]
      },
      {
       "output_type": "stream",
       "stream": "stdout",
       "text": [
        "660000 273 \n",
        "2016-02-14 18:13:08.542628\n",
        "661000"
       ]
      },
      {
       "output_type": "stream",
       "stream": "stdout",
       "text": [
        " 276 "
       ]
      },
      {
       "output_type": "stream",
       "stream": "stdout",
       "text": [
        "662000 277 "
       ]
      },
      {
       "output_type": "stream",
       "stream": "stdout",
       "text": [
        "663000 277 "
       ]
      },
      {
       "output_type": "stream",
       "stream": "stdout",
       "text": [
        "664000 277 "
       ]
      },
      {
       "output_type": "stream",
       "stream": "stdout",
       "text": [
        "665000 277 "
       ]
      },
      {
       "output_type": "stream",
       "stream": "stdout",
       "text": [
        "666000 277 "
       ]
      },
      {
       "output_type": "stream",
       "stream": "stdout",
       "text": [
        "667000 278 "
       ]
      },
      {
       "output_type": "stream",
       "stream": "stdout",
       "text": [
        "668000 279 "
       ]
      },
      {
       "output_type": "stream",
       "stream": "stdout",
       "text": [
        "669000 279 "
       ]
      },
      {
       "output_type": "stream",
       "stream": "stdout",
       "text": [
        "670000 280 \n",
        "2016-02-14 18:13:21.975811\n",
        "671000"
       ]
      },
      {
       "output_type": "stream",
       "stream": "stdout",
       "text": [
        " 280 "
       ]
      },
      {
       "output_type": "stream",
       "stream": "stdout",
       "text": [
        "672000 282 "
       ]
      },
      {
       "output_type": "stream",
       "stream": "stdout",
       "text": [
        "673000 282 "
       ]
      },
      {
       "output_type": "stream",
       "stream": "stdout",
       "text": [
        "674000 287 "
       ]
      },
      {
       "output_type": "stream",
       "stream": "stdout",
       "text": [
        "675000 288 "
       ]
      },
      {
       "output_type": "stream",
       "stream": "stdout",
       "text": [
        "676000 292 "
       ]
      },
      {
       "output_type": "stream",
       "stream": "stdout",
       "text": [
        "677000 292 "
       ]
      },
      {
       "output_type": "stream",
       "stream": "stdout",
       "text": [
        "678000 296 "
       ]
      },
      {
       "output_type": "stream",
       "stream": "stdout",
       "text": [
        "679000 299 "
       ]
      },
      {
       "output_type": "stream",
       "stream": "stdout",
       "text": [
        "680000 300 \n",
        "2016-02-14 18:13:35.867137\n",
        "681000"
       ]
      },
      {
       "output_type": "stream",
       "stream": "stdout",
       "text": [
        " 300 "
       ]
      },
      {
       "output_type": "stream",
       "stream": "stdout",
       "text": [
        "682000 300 "
       ]
      },
      {
       "output_type": "stream",
       "stream": "stdout",
       "text": [
        "683000 303 "
       ]
      },
      {
       "output_type": "stream",
       "stream": "stdout",
       "text": [
        "684000 304 "
       ]
      },
      {
       "output_type": "stream",
       "stream": "stdout",
       "text": [
        "685000 305 "
       ]
      },
      {
       "output_type": "stream",
       "stream": "stdout",
       "text": [
        "686000 308 "
       ]
      },
      {
       "output_type": "stream",
       "stream": "stdout",
       "text": [
        "687000 312 "
       ]
      },
      {
       "output_type": "stream",
       "stream": "stdout",
       "text": [
        "688000 316 "
       ]
      },
      {
       "output_type": "stream",
       "stream": "stdout",
       "text": [
        "689000 318 "
       ]
      },
      {
       "output_type": "stream",
       "stream": "stdout",
       "text": [
        "690000 318 \n",
        "2016-02-14 18:13:48.563641\n",
        "691000"
       ]
      },
      {
       "output_type": "stream",
       "stream": "stdout",
       "text": [
        " 318 "
       ]
      },
      {
       "output_type": "stream",
       "stream": "stdout",
       "text": [
        "692000 318 "
       ]
      },
      {
       "output_type": "stream",
       "stream": "stdout",
       "text": [
        "693000 319 "
       ]
      },
      {
       "output_type": "stream",
       "stream": "stdout",
       "text": [
        "694000 320 "
       ]
      },
      {
       "output_type": "stream",
       "stream": "stdout",
       "text": [
        "695000 320 "
       ]
      },
      {
       "output_type": "stream",
       "stream": "stdout",
       "text": [
        "696000 322 "
       ]
      },
      {
       "output_type": "stream",
       "stream": "stdout",
       "text": [
        "697000 322 "
       ]
      },
      {
       "output_type": "stream",
       "stream": "stdout",
       "text": [
        "698000 322 "
       ]
      },
      {
       "output_type": "stream",
       "stream": "stdout",
       "text": [
        "699000 322 "
       ]
      },
      {
       "output_type": "stream",
       "stream": "stdout",
       "text": [
        "700000 324 \n",
        "2016-02-14 18:14:02.708562\n",
        "701000"
       ]
      },
      {
       "output_type": "stream",
       "stream": "stdout",
       "text": [
        " 325 "
       ]
      },
      {
       "output_type": "stream",
       "stream": "stdout",
       "text": [
        "702000 325 "
       ]
      },
      {
       "output_type": "stream",
       "stream": "stdout",
       "text": [
        "703000 325 "
       ]
      },
      {
       "output_type": "stream",
       "stream": "stdout",
       "text": [
        "704000 325 "
       ]
      },
      {
       "output_type": "stream",
       "stream": "stdout",
       "text": [
        "705000 325 "
       ]
      },
      {
       "output_type": "stream",
       "stream": "stdout",
       "text": [
        "706000 327 "
       ]
      },
      {
       "output_type": "stream",
       "stream": "stdout",
       "text": [
        "707000 327 "
       ]
      },
      {
       "output_type": "stream",
       "stream": "stdout",
       "text": [
        "708000 327 "
       ]
      },
      {
       "output_type": "stream",
       "stream": "stdout",
       "text": [
        "709000 328 "
       ]
      },
      {
       "output_type": "stream",
       "stream": "stdout",
       "text": [
        "710000 328 \n",
        "2016-02-14 18:14:16.480695\n",
        "711000"
       ]
      },
      {
       "output_type": "stream",
       "stream": "stdout",
       "text": [
        " 328 "
       ]
      },
      {
       "output_type": "stream",
       "stream": "stdout",
       "text": [
        "712000 330 "
       ]
      },
      {
       "output_type": "stream",
       "stream": "stdout",
       "text": [
        "713000 333 "
       ]
      },
      {
       "output_type": "stream",
       "stream": "stdout",
       "text": [
        "714000 333 "
       ]
      },
      {
       "output_type": "stream",
       "stream": "stdout",
       "text": [
        "715000 333 "
       ]
      },
      {
       "output_type": "stream",
       "stream": "stdout",
       "text": [
        "716000 333 "
       ]
      },
      {
       "output_type": "stream",
       "stream": "stdout",
       "text": [
        "717000 333 "
       ]
      },
      {
       "output_type": "stream",
       "stream": "stdout",
       "text": [
        "718000 333 "
       ]
      },
      {
       "output_type": "stream",
       "stream": "stdout",
       "text": [
        "719000 333 "
       ]
      },
      {
       "output_type": "stream",
       "stream": "stdout",
       "text": [
        "720000 334 \n",
        "2016-02-14 18:14:30.274745\n",
        "721000"
       ]
      },
      {
       "output_type": "stream",
       "stream": "stdout",
       "text": [
        " 334 "
       ]
      },
      {
       "output_type": "stream",
       "stream": "stdout",
       "text": [
        "722000 334 "
       ]
      },
      {
       "output_type": "stream",
       "stream": "stdout",
       "text": [
        "723000 334 "
       ]
      },
      {
       "output_type": "stream",
       "stream": "stdout",
       "text": [
        "724000 335 "
       ]
      },
      {
       "output_type": "stream",
       "stream": "stdout",
       "text": [
        "725000 335 "
       ]
      },
      {
       "output_type": "stream",
       "stream": "stdout",
       "text": [
        "726000 335 "
       ]
      },
      {
       "output_type": "stream",
       "stream": "stdout",
       "text": [
        "727000 335 "
       ]
      },
      {
       "output_type": "stream",
       "stream": "stdout",
       "text": [
        "728000 336 "
       ]
      },
      {
       "output_type": "stream",
       "stream": "stdout",
       "text": [
        "729000 336 "
       ]
      },
      {
       "output_type": "stream",
       "stream": "stdout",
       "text": [
        "730000 338 \n",
        "2016-02-14 18:14:43.828791\n",
        "731000"
       ]
      },
      {
       "output_type": "stream",
       "stream": "stdout",
       "text": [
        " 338 "
       ]
      },
      {
       "output_type": "stream",
       "stream": "stdout",
       "text": [
        "732000 338 "
       ]
      },
      {
       "output_type": "stream",
       "stream": "stdout",
       "text": [
        "733000 341 "
       ]
      },
      {
       "output_type": "stream",
       "stream": "stdout",
       "text": [
        "734000 343 "
       ]
      },
      {
       "output_type": "stream",
       "stream": "stdout",
       "text": [
        "735000 345 "
       ]
      },
      {
       "output_type": "stream",
       "stream": "stdout",
       "text": [
        "736000 347 "
       ]
      },
      {
       "output_type": "stream",
       "stream": "stdout",
       "text": [
        "737000 348 "
       ]
      },
      {
       "output_type": "stream",
       "stream": "stdout",
       "text": [
        "738000 349 "
       ]
      },
      {
       "output_type": "stream",
       "stream": "stdout",
       "text": [
        "739000 349 "
       ]
      },
      {
       "output_type": "stream",
       "stream": "stdout",
       "text": [
        "740000 349 \n",
        "2016-02-14 18:14:57.148087\n",
        "741000"
       ]
      },
      {
       "output_type": "stream",
       "stream": "stdout",
       "text": [
        " 349 "
       ]
      },
      {
       "output_type": "stream",
       "stream": "stdout",
       "text": [
        "742000 349 "
       ]
      },
      {
       "output_type": "stream",
       "stream": "stdout",
       "text": [
        "743000 349 "
       ]
      },
      {
       "output_type": "stream",
       "stream": "stdout",
       "text": [
        "744000 349 "
       ]
      },
      {
       "output_type": "stream",
       "stream": "stdout",
       "text": [
        "745000 349 "
       ]
      },
      {
       "output_type": "stream",
       "stream": "stdout",
       "text": [
        "746000 350 "
       ]
      },
      {
       "output_type": "stream",
       "stream": "stdout",
       "text": [
        "747000 351 "
       ]
      },
      {
       "output_type": "stream",
       "stream": "stdout",
       "text": [
        "748000 351 "
       ]
      },
      {
       "output_type": "stream",
       "stream": "stdout",
       "text": [
        "749000 351 "
       ]
      },
      {
       "output_type": "stream",
       "stream": "stdout",
       "text": [
        "750000 351 \n",
        "2016-02-14 18:15:10.765150\n",
        "751000"
       ]
      },
      {
       "output_type": "stream",
       "stream": "stdout",
       "text": [
        " 351 "
       ]
      },
      {
       "output_type": "stream",
       "stream": "stdout",
       "text": [
        "752000 351 "
       ]
      },
      {
       "output_type": "stream",
       "stream": "stdout",
       "text": [
        "753000 352 "
       ]
      },
      {
       "output_type": "stream",
       "stream": "stdout",
       "text": [
        "754000 352 "
       ]
      },
      {
       "output_type": "stream",
       "stream": "stdout",
       "text": [
        "755000 354 "
       ]
      },
      {
       "output_type": "stream",
       "stream": "stdout",
       "text": [
        "756000 354 "
       ]
      },
      {
       "output_type": "stream",
       "stream": "stdout",
       "text": [
        "757000 356 "
       ]
      },
      {
       "output_type": "stream",
       "stream": "stdout",
       "text": [
        "758000 356 "
       ]
      },
      {
       "output_type": "stream",
       "stream": "stdout",
       "text": [
        "759000 356 "
       ]
      },
      {
       "output_type": "stream",
       "stream": "stdout",
       "text": [
        "760000 358 \n",
        "2016-02-14 18:15:24.365136\n",
        "761000"
       ]
      },
      {
       "output_type": "stream",
       "stream": "stdout",
       "text": [
        " 358 "
       ]
      },
      {
       "output_type": "stream",
       "stream": "stdout",
       "text": [
        "762000 358 "
       ]
      },
      {
       "output_type": "stream",
       "stream": "stdout",
       "text": [
        "763000 358 "
       ]
      },
      {
       "output_type": "stream",
       "stream": "stdout",
       "text": [
        "764000 358 "
       ]
      },
      {
       "output_type": "stream",
       "stream": "stdout",
       "text": [
        "765000 358 "
       ]
      },
      {
       "output_type": "stream",
       "stream": "stdout",
       "text": [
        "766000 358 "
       ]
      },
      {
       "output_type": "stream",
       "stream": "stdout",
       "text": [
        "767000 358 "
       ]
      },
      {
       "output_type": "stream",
       "stream": "stdout",
       "text": [
        "768000 362 "
       ]
      },
      {
       "output_type": "stream",
       "stream": "stdout",
       "text": [
        "769000 362 "
       ]
      },
      {
       "output_type": "stream",
       "stream": "stdout",
       "text": [
        "770000 362 \n",
        "2016-02-14 18:15:38.877940\n",
        "771000"
       ]
      },
      {
       "output_type": "stream",
       "stream": "stdout",
       "text": [
        " 362 "
       ]
      },
      {
       "output_type": "stream",
       "stream": "stdout",
       "text": [
        "772000 363 "
       ]
      },
      {
       "output_type": "stream",
       "stream": "stdout",
       "text": [
        "773000 366 "
       ]
      },
      {
       "output_type": "stream",
       "stream": "stdout",
       "text": [
        "774000 368 "
       ]
      },
      {
       "output_type": "stream",
       "stream": "stdout",
       "text": [
        "775000 369 "
       ]
      },
      {
       "output_type": "stream",
       "stream": "stdout",
       "text": [
        "776000 369 "
       ]
      },
      {
       "output_type": "stream",
       "stream": "stdout",
       "text": [
        "777000 369 "
       ]
      },
      {
       "output_type": "stream",
       "stream": "stdout",
       "text": [
        "778000 370 "
       ]
      },
      {
       "output_type": "stream",
       "stream": "stdout",
       "text": [
        "779000 371 "
       ]
      },
      {
       "output_type": "stream",
       "stream": "stdout",
       "text": [
        "780000 371 \n",
        "2016-02-14 18:15:53.804464\n",
        "781000"
       ]
      },
      {
       "output_type": "stream",
       "stream": "stdout",
       "text": [
        " 372 "
       ]
      },
      {
       "output_type": "stream",
       "stream": "stdout",
       "text": [
        "782000 372 "
       ]
      },
      {
       "output_type": "stream",
       "stream": "stdout",
       "text": [
        "783000 373 "
       ]
      },
      {
       "output_type": "stream",
       "stream": "stdout",
       "text": [
        "784000 374 "
       ]
      },
      {
       "output_type": "stream",
       "stream": "stdout",
       "text": [
        "785000 374 "
       ]
      },
      {
       "output_type": "stream",
       "stream": "stdout",
       "text": [
        "786000 374 "
       ]
      },
      {
       "output_type": "stream",
       "stream": "stdout",
       "text": [
        "787000 378 "
       ]
      },
      {
       "output_type": "stream",
       "stream": "stdout",
       "text": [
        "788000 381 "
       ]
      },
      {
       "output_type": "stream",
       "stream": "stdout",
       "text": [
        "789000 385 "
       ]
      },
      {
       "output_type": "stream",
       "stream": "stdout",
       "text": [
        "790000 388 \n",
        "2016-02-14 18:16:08.404133\n",
        "791000"
       ]
      },
      {
       "output_type": "stream",
       "stream": "stdout",
       "text": [
        " 388 "
       ]
      },
      {
       "output_type": "stream",
       "stream": "stdout",
       "text": [
        "792000 388 "
       ]
      },
      {
       "output_type": "stream",
       "stream": "stdout",
       "text": [
        "793000 388 "
       ]
      },
      {
       "output_type": "stream",
       "stream": "stdout",
       "text": [
        "794000 388 "
       ]
      },
      {
       "output_type": "stream",
       "stream": "stdout",
       "text": [
        "795000 388 "
       ]
      },
      {
       "output_type": "stream",
       "stream": "stdout",
       "text": [
        "796000 388 "
       ]
      },
      {
       "output_type": "stream",
       "stream": "stdout",
       "text": [
        "797000 389 "
       ]
      },
      {
       "output_type": "stream",
       "stream": "stdout",
       "text": [
        "798000 389 "
       ]
      },
      {
       "output_type": "stream",
       "stream": "stdout",
       "text": [
        "799000 393 "
       ]
      },
      {
       "output_type": "stream",
       "stream": "stdout",
       "text": [
        "800000 394 \n",
        "2016-02-14 18:16:22.601520\n",
        "801000"
       ]
      },
      {
       "output_type": "stream",
       "stream": "stdout",
       "text": [
        " 394 "
       ]
      },
      {
       "output_type": "stream",
       "stream": "stdout",
       "text": [
        "802000 394 "
       ]
      },
      {
       "output_type": "stream",
       "stream": "stdout",
       "text": [
        "803000 396 "
       ]
      },
      {
       "output_type": "stream",
       "stream": "stdout",
       "text": [
        "804000 396 "
       ]
      },
      {
       "output_type": "stream",
       "stream": "stdout",
       "text": [
        "805000 396 "
       ]
      },
      {
       "output_type": "stream",
       "stream": "stdout",
       "text": [
        "806000 396 "
       ]
      },
      {
       "output_type": "stream",
       "stream": "stdout",
       "text": [
        "807000 396 "
       ]
      },
      {
       "output_type": "stream",
       "stream": "stdout",
       "text": [
        "808000 399 "
       ]
      },
      {
       "output_type": "stream",
       "stream": "stdout",
       "text": [
        "809000 399 "
       ]
      },
      {
       "output_type": "stream",
       "stream": "stdout",
       "text": [
        "810000 399 \n",
        "2016-02-14 18:16:36.110351\n",
        "811000"
       ]
      },
      {
       "output_type": "stream",
       "stream": "stdout",
       "text": [
        " 399 "
       ]
      },
      {
       "output_type": "stream",
       "stream": "stdout",
       "text": [
        "812000 401 "
       ]
      },
      {
       "output_type": "stream",
       "stream": "stdout",
       "text": [
        "813000 401 "
       ]
      },
      {
       "output_type": "stream",
       "stream": "stdout",
       "text": [
        "814000 401 "
       ]
      },
      {
       "output_type": "stream",
       "stream": "stdout",
       "text": [
        "815000 401 "
       ]
      },
      {
       "output_type": "stream",
       "stream": "stdout",
       "text": [
        "816000 401 "
       ]
      },
      {
       "output_type": "stream",
       "stream": "stdout",
       "text": [
        "817000 403 "
       ]
      },
      {
       "output_type": "stream",
       "stream": "stdout",
       "text": [
        "818000 405 "
       ]
      },
      {
       "output_type": "stream",
       "stream": "stdout",
       "text": [
        "819000 405 "
       ]
      },
      {
       "output_type": "stream",
       "stream": "stdout",
       "text": [
        "820000 405 \n",
        "2016-02-14 18:16:49.909529\n",
        "821000"
       ]
      },
      {
       "output_type": "stream",
       "stream": "stdout",
       "text": [
        " 405 "
       ]
      },
      {
       "output_type": "stream",
       "stream": "stdout",
       "text": [
        "822000 405 "
       ]
      },
      {
       "output_type": "stream",
       "stream": "stdout",
       "text": [
        "823000 405 "
       ]
      },
      {
       "output_type": "stream",
       "stream": "stdout",
       "text": [
        "824000 407 "
       ]
      },
      {
       "output_type": "stream",
       "stream": "stdout",
       "text": [
        "825000 412 "
       ]
      },
      {
       "output_type": "stream",
       "stream": "stdout",
       "text": [
        "826000 412 "
       ]
      },
      {
       "output_type": "stream",
       "stream": "stdout",
       "text": [
        "827000 413 "
       ]
      },
      {
       "output_type": "stream",
       "stream": "stdout",
       "text": [
        "828000 413 "
       ]
      },
      {
       "output_type": "stream",
       "stream": "stdout",
       "text": [
        "829000 413 "
       ]
      },
      {
       "output_type": "stream",
       "stream": "stdout",
       "text": [
        "830000 413 \n",
        "2016-02-14 18:17:03.201542\n",
        "831000"
       ]
      },
      {
       "output_type": "stream",
       "stream": "stdout",
       "text": [
        " 414 "
       ]
      },
      {
       "output_type": "stream",
       "stream": "stdout",
       "text": [
        "832000 414 "
       ]
      },
      {
       "output_type": "stream",
       "stream": "stdout",
       "text": [
        "833000 417 "
       ]
      },
      {
       "output_type": "stream",
       "stream": "stdout",
       "text": [
        "834000 420 "
       ]
      },
      {
       "output_type": "stream",
       "stream": "stdout",
       "text": [
        "835000 421 "
       ]
      },
      {
       "output_type": "stream",
       "stream": "stdout",
       "text": [
        "836000 421 "
       ]
      },
      {
       "output_type": "stream",
       "stream": "stdout",
       "text": [
        "837000 421 "
       ]
      },
      {
       "output_type": "stream",
       "stream": "stdout",
       "text": [
        "838000 421 "
       ]
      },
      {
       "output_type": "stream",
       "stream": "stdout",
       "text": [
        "839000 421 "
       ]
      },
      {
       "output_type": "stream",
       "stream": "stdout",
       "text": [
        "840000 422 \n",
        "2016-02-14 18:17:17.302874\n",
        "841000"
       ]
      },
      {
       "output_type": "stream",
       "stream": "stdout",
       "text": [
        " 422 "
       ]
      },
      {
       "output_type": "stream",
       "stream": "stdout",
       "text": [
        "842000 423 "
       ]
      },
      {
       "output_type": "stream",
       "stream": "stdout",
       "text": [
        "843000 428 "
       ]
      },
      {
       "output_type": "stream",
       "stream": "stdout",
       "text": [
        "844000 428 "
       ]
      },
      {
       "output_type": "stream",
       "stream": "stdout",
       "text": [
        "845000 429 "
       ]
      },
      {
       "output_type": "stream",
       "stream": "stdout",
       "text": [
        "846000 430 "
       ]
      },
      {
       "output_type": "stream",
       "stream": "stdout",
       "text": [
        "847000 431 "
       ]
      },
      {
       "output_type": "stream",
       "stream": "stdout",
       "text": [
        "848000 432 "
       ]
      },
      {
       "output_type": "stream",
       "stream": "stdout",
       "text": [
        "849000 433 "
       ]
      },
      {
       "output_type": "stream",
       "stream": "stdout",
       "text": [
        "850000 434 \n",
        "2016-02-14 18:17:30.938827\n",
        "851000"
       ]
      },
      {
       "output_type": "stream",
       "stream": "stdout",
       "text": [
        " 435 "
       ]
      },
      {
       "output_type": "stream",
       "stream": "stdout",
       "text": [
        "852000 436 "
       ]
      },
      {
       "output_type": "stream",
       "stream": "stdout",
       "text": [
        "853000 438 "
       ]
      },
      {
       "output_type": "stream",
       "stream": "stdout",
       "text": [
        "854000 441 "
       ]
      },
      {
       "output_type": "stream",
       "stream": "stdout",
       "text": [
        "855000 441 "
       ]
      },
      {
       "output_type": "stream",
       "stream": "stdout",
       "text": [
        "856000 442 "
       ]
      },
      {
       "output_type": "stream",
       "stream": "stdout",
       "text": [
        "857000 442 "
       ]
      },
      {
       "output_type": "stream",
       "stream": "stdout",
       "text": [
        "858000 443 "
       ]
      },
      {
       "output_type": "stream",
       "stream": "stdout",
       "text": [
        "859000 443 "
       ]
      },
      {
       "output_type": "stream",
       "stream": "stdout",
       "text": [
        "860000 443 \n",
        "2016-02-14 18:17:44.056961\n",
        "861000"
       ]
      },
      {
       "output_type": "stream",
       "stream": "stdout",
       "text": [
        " 443 "
       ]
      },
      {
       "output_type": "stream",
       "stream": "stdout",
       "text": [
        "862000 443 "
       ]
      },
      {
       "output_type": "stream",
       "stream": "stdout",
       "text": [
        "863000 444 "
       ]
      },
      {
       "output_type": "stream",
       "stream": "stdout",
       "text": [
        "864000 444 "
       ]
      },
      {
       "output_type": "stream",
       "stream": "stdout",
       "text": [
        "865000 444 "
       ]
      },
      {
       "output_type": "stream",
       "stream": "stdout",
       "text": [
        "866000 444 "
       ]
      },
      {
       "output_type": "stream",
       "stream": "stdout",
       "text": [
        "867000 444 "
       ]
      },
      {
       "output_type": "stream",
       "stream": "stdout",
       "text": [
        "868000 445 "
       ]
      },
      {
       "output_type": "stream",
       "stream": "stdout",
       "text": [
        "869000 445 "
       ]
      },
      {
       "output_type": "stream",
       "stream": "stdout",
       "text": [
        "870000 446 \n",
        "2016-02-14 18:17:57.944359\n",
        "871000"
       ]
      },
      {
       "output_type": "stream",
       "stream": "stdout",
       "text": [
        " 446 "
       ]
      },
      {
       "output_type": "stream",
       "stream": "stdout",
       "text": [
        "872000 447 "
       ]
      },
      {
       "output_type": "stream",
       "stream": "stdout",
       "text": [
        "873000 447 "
       ]
      },
      {
       "output_type": "stream",
       "stream": "stdout",
       "text": [
        "874000 449 "
       ]
      },
      {
       "output_type": "stream",
       "stream": "stdout",
       "text": [
        "875000 449 "
       ]
      },
      {
       "output_type": "stream",
       "stream": "stdout",
       "text": [
        "876000 449 "
       ]
      },
      {
       "output_type": "stream",
       "stream": "stdout",
       "text": [
        "877000 449 "
       ]
      },
      {
       "output_type": "stream",
       "stream": "stdout",
       "text": [
        "878000 450\n"
       ]
      }
     ],
     "prompt_number": 107
    },
    {
     "cell_type": "code",
     "collapsed": false,
     "input": [
      "zip(nh_res, df_train['X'], df_train['Y'])[0:100]"
     ],
     "language": "python",
     "metadata": {},
     "outputs": [
      {
       "metadata": {},
       "output_type": "pyout",
       "prompt_number": 110,
       "text": [
        "[(u'Hayes Valley', -122.425891675136, 37.774598595674703),\n",
        " (u'Hayes Valley', -122.425891675136, 37.774598595674703),\n",
        " (u'Marina', -122.42436302145001, 37.800414321985599),\n",
        " (u'Marina', -122.42699532676599, 37.800872632769213),\n",
        " (u'Haight Ashbury', -122.438737622757, 37.771541172057795),\n",
        " (u'Visitacion Valley', -122.40325236121201, 37.713430704116),\n",
        " (u'Excelsior', -122.42332697666799, 37.7251380403778),\n",
        " (u'Bayview Hunters Point', -122.37127431744101, 37.727564071951797),\n",
        " (u'Outer Richmond', -122.508194031117, 37.776601260681204),\n",
        " (u'Russian Hill', -122.419087676747, 37.807801551651501),\n",
        " (u'Russian Hill', -122.419087676747, 37.807801551651501),\n",
        " (u'Sunset/Parkside', -122.487983072777, 37.737666654332706),\n",
        " (u'Tenderloin', -122.41241426358101, 37.7830037964534),\n",
        " (u'Western Addition', -122.432914603494, 37.7843533426568),\n",
        " (u'Bayview Hunters Point', -122.39774442710301, 37.729934693604399),\n",
        " (u'Bayview Hunters Point', -122.38369150395901, 37.743189041996501),\n",
        " (u'Tenderloin', -122.412597377187, 37.783932027727296),\n",
        " (u'Bernal Heights', -122.42168153157201, 37.742822200484497),\n",
        " (u'Bayview Hunters Point', -122.38640086995301, 37.738983491071998),\n",
        " (u'Tenderloin', -122.41224976763399, 37.782556330201999),\n",
        " (u'West of Twin Peaks', -122.44938911128401, 37.742668802576603),\n",
        " (u'Bernal Heights', -122.420272135283, 37.747331629878502),\n",
        " (u'Tenderloin', -122.41224976763399, 37.782556330201999),\n",
        " (u'Tenderloin', -122.41224976763399, 37.782556330201999),\n",
        " (u'Marina', -122.43604920358601, 37.799841222882293),\n",
        " (u'Tenderloin', -122.41050925879499, 37.786043222299206),\n",
        " (u'Pacific Heights', -122.43101755702699, 37.7873880712241),\n",
        " (u'Bernal Heights', -122.42365634294501, 37.732556488206498),\n",
        " (u'Sunset/Parkside', -122.475773497852, 37.744919069590999),\n",
        " (u'Sunset/Parkside', -122.49978712068999, 37.748517603472287),\n",
        " (u'Western Addition', -122.43104636608901, 37.783029571604402),\n",
        " (u'Castro/Upper Market', -122.43515009981199, 37.761759724359798),\n",
        " (u'Western Addition', -122.432743822617, 37.7838424505847),\n",
        " (u'Japantown', -122.431309540727, 37.785870627252599),\n",
        " (u'Japantown', -122.431309540727, 37.785870627252599),\n",
        " (u'Mission Bay', -122.391845617192, 37.778124778322002),\n",
        " (u'Pacific Heights', -122.431830723792, 37.795641703257601),\n",
        " (u'Pacific Heights', -122.43055177980101, 37.7893227716214),\n",
        " (u'West of Twin Peaks', -122.47318202955799, 37.721564740620103),\n",
        " (u'Excelsior', -122.43244646285299, 37.710832654107499),\n",
        " (u'Financial District', -122.405294845215, 37.786307223636499),\n",
        " (u'Hayes Valley', -122.422127579529, 37.773033018351498),\n",
        " (u'Financial District', -122.406351834294, 37.786031157636202),\n",
        " (u'Bayview Hunters Point', -122.39944365894199, 37.730176016164712),\n",
        " (u'Bayview Hunters Point', -122.39944365894199, 37.730176016164712),\n",
        " (u'Nob Hill', -122.415212031352, 37.788871449843001),\n",
        " (u'Bernal Heights', -122.423702325261, 37.735232787815903),\n",
        " (u'Inner Sunset', -122.471799827428, 37.765686698829796),\n",
        " (u'Nob Hill', -122.408597386677, 37.789224205872998),\n",
        " (u'Haight Ashbury', -122.44776112232, 37.7698464875415),\n",
        " (u'Potrero Hill', -122.39869558968901, 37.754745601118898),\n",
        " (u'Potrero Hill', -122.39869558968901, 37.754745601118898),\n",
        " (u'Financial District', -122.40328484310601, 37.787306416019),\n",
        " (u'South of Market', -122.397615567933, 37.7773918242817),\n",
        " (u'Mission', -122.420347208832, 37.771769072224394),\n",
        " (u'Financial District', -122.399802145799, 37.788006532439212),\n",
        " (u'Western Addition', -122.42139581911501, 37.785684338947199),\n",
        " (u'South of Market', -122.41127918996901, 37.771578576504297),\n",
        " (u'Western Addition', -122.42799115191099, 37.784953124161213),\n",
        " (u'Financial District', -122.40071978579701, 37.790712469586502),\n",
        " (u'Financial District', -122.40071978579701, 37.790712469586502),\n",
        " (u'Nob Hill', -122.41292895522, 37.789686826578397),\n",
        " (u'Nob Hill', -122.41292895522, 37.789686826578397),\n",
        " (u'Financial District', -122.39509777418101, 37.794059048556207),\n",
        " (u'South of Market', -122.411636621857, 37.771786935063894),\n",
        " (u'West of Twin Peaks', -122.47489915168801, 37.7269905309861),\n",
        " (u'Tenderloin', -122.416235852379, 37.784912573847606),\n",
        " (u'Tenderloin', -122.416235852379, 37.784912573847606),\n",
        " (u'Tenderloin', -122.416235852379, 37.784912573847606),\n",
        " (u'South of Market', -122.395985970867, 37.778834820568207),\n",
        " (u'South of Market', -122.395985970867, 37.778834820568207),\n",
        " (u'Pacific Heights', -122.434121356001, 37.786033049732701),\n",
        " (u'Bayview Hunters Point', -122.39713621736701, 37.722804982520103),\n",
        " (u'Mission', -122.42257233421302, 37.748774005049498),\n",
        " (u'Financial District', -122.406958660602, 37.789434763003996),\n",
        " (u'Mission', -122.41967661615, 37.7658510977435),\n",
        " (u'Mission', -122.41967661615, 37.7658510977435),\n",
        " (u'Castro/Upper Market', -122.442496487593, 37.7604858807114),\n",
        " (u'South of Market', -122.39641145553401, 37.779187614727),\n",
        " (u'Mission', -122.41359169556101, 37.7638222259421),\n",
        " (u'North Beach', -122.402042584193, 37.797504889833895),\n",
        " (u'Russian Hill', -122.4214269222, 37.794602827240702),\n",
        " (u'Russian Hill', -122.4214269222, 37.794602827240702),\n",
        " (u'Tenderloin', -122.41426339037201, 37.781756984796793),\n",
        " (u'Bernal Heights', -122.411504150729, 37.7477859069595),\n",
        " (u'Western Addition', -122.43699990716499, 37.7791621676229),\n",
        " (u'Outer Richmond', -122.513642064265, 37.778469219946707),\n",
        " (u'Excelsior', -122.41793796834801, 37.726605136966),\n",
        " (u'Western Addition', -122.432743822617, 37.7838424505847),\n",
        " (u'Financial District', -122.40574476200899, 37.791498082842494),\n",
        " (u'Western Addition', -122.420691386664, 37.781483252353702),\n",
        " (u'Tenderloin', -122.415088721046, 37.783671956437203),\n",
        " (u'West of Twin Peaks', -122.46699111214399, 37.739723159214201),\n",
        " (u'Russian Hill', -122.41780061524599, 37.801268383943999),\n",
        " (u'Russian Hill', -122.42018000130599, 37.804789650688797),\n",
        " (u'Portola', -122.404099929802, 37.728837339642702),\n",
        " (u'Mission', -122.41501468504801, 37.750836391743995),\n",
        " (u'South of Market', -122.40950430935, 37.781526271746998),\n",
        " (u'Potrero Hill', -122.387571306252, 37.760549956514396),\n",
        " (u'Castro/Upper Market', -122.435318423327, 37.764102028717801)]"
       ]
      }
     ],
     "prompt_number": 110
    },
    {
     "cell_type": "code",
     "collapsed": false,
     "input": [],
     "language": "python",
     "metadata": {},
     "outputs": []
    }
   ],
   "metadata": {}
  }
 ]
}
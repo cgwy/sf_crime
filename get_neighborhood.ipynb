{
 "metadata": {
  "name": "",
  "signature": "sha256:1d583aef324e600c76ccbdf992d3b763c4646be9c6fdc9c07abf72834c4e9fad"
 },
 "nbformat": 3,
 "nbformat_minor": 0,
 "worksheets": [
  {
   "cells": [
    {
     "cell_type": "code",
     "collapsed": false,
     "input": [
      "import json\n",
      "from pprint import pprint\n",
      "\n",
      "with open('data/sf_neighborhoods.json') as data_file:    \n",
      "    nh = json.load(data_file)\n",
      "\n",
      "nh_names = map(lambda x: x[8], nh['data']) #Note: the nh_names here is not sorted\n",
      "nh_poly_str = map(lambda x: x[9], nh['data'])"
     ],
     "language": "python",
     "metadata": {},
     "outputs": [],
     "prompt_number": 97
    },
    {
     "cell_type": "code",
     "collapsed": false,
     "input": [
      "#input: string representation of polygons\n",
      "#output: list of list of polygons\n",
      "def parse_nh_poly_str(raw_str):\n",
      "    raw_str = raw_str.encode('ascii', 'ignore')#unicode to ascii\n",
      "    polys = []\n",
      "    i = 0\n",
      "    len_raw = len(raw_str)\n",
      "    while i < len_raw:\n",
      "        new_poly = []\n",
      "        while i < len_raw and raw_str[i] != '(':\n",
      "            i += 1\n",
      "        if i < len_raw:\n",
      "            while raw_str[i] == '(':\n",
      "                i += 1\n",
      "            j = i\n",
      "            while raw_str[j] != ')':\n",
      "                j += 1\n",
      "            new_poly_str = raw_str[i:j]\n",
      "            new_poly = map(lambda x: map(float, x.split()), new_poly_str.split(','))\n",
      "            polys.append(new_poly)\n",
      "        else:#no more new poly\n",
      "            continue\n",
      "    return polys\n",
      "\n",
      "nh_poly_groups = map(parse_nh_poly_str, nh_poly_str)"
     ],
     "language": "python",
     "metadata": {},
     "outputs": [],
     "prompt_number": 29
    },
    {
     "cell_type": "code",
     "collapsed": false,
     "input": [
      "#For acceleration\n",
      "def GenBoundingBox(polygon_group):\n",
      "    [minX, minY] = polygon_group[0][0]\n",
      "    [maxX, maxY] = polygon_group[0][0]\n",
      "    for polygon in polygon_group:\n",
      "        i = 0\n",
      "        while i < len(polygon) - 1:\n",
      "            [minX, minY] = [min(minX, polygon[i][0]), min(minY, polygon[i][1])]\n",
      "            [maxX, maxY] = [max(maxX, polygon[i][0]), max(maxY, polygon[i][1])]\n",
      "            i = i+1\n",
      "    return [minX, minY, maxX, maxY]\n",
      " \n",
      "bound_boxes = map(GenBoundingBox, nh_poly_groups)\n",
      "#print nh_poly_groups[0][0][0]\n",
      "len(bound_boxes)"
     ],
     "language": "python",
     "metadata": {},
     "outputs": [
      {
       "metadata": {},
       "output_type": "pyout",
       "prompt_number": 99,
       "text": [
        "41"
       ]
      }
     ],
     "prompt_number": 99
    },
    {
     "cell_type": "code",
     "collapsed": false,
     "input": [
      "#point: tuple (X,Y)\n",
      "def PointInPloygon(p, polygon):\n",
      "    nCross = 0\n",
      "    nCount = len(polygon)\n",
      "    for i in range(nCount):\n",
      "        p1 = polygon[i]\n",
      "        p2 = polygon[(i+1)%nCount]\n",
      "        if p1[1] == p2[1]:\n",
      "            continue\n",
      "        if p[1] < min(p1[1], p2[1]):\n",
      "            continue\n",
      "        if p[1] >= max(p1[1], p2[1]):\n",
      "            continue\n",
      "        x = (p[1] - p1[1]) * (p2[0] - p1[0]) / (p2[1] - p1[1]) + p1[0]\n",
      "        if x > p[0]:\n",
      "            nCross = nCross + 1\n",
      "    \n",
      "    return (nCross % 2 == 1)\n",
      "\n",
      "#@return: >=0: id of poly_group,  -1: no match\n",
      "def PointInPloygonGroups(point, nh_poly_groups):\n",
      "    for i in range(len(nh_poly_groups)):\n",
      "        #Can accelerate abour 50 times\n",
      "        if point[0] < bound_boxes[i][0] or point[1] < bound_boxes[i][1] or point[0] > bound_boxes[i][2] or point[1] > bound_boxes[i][3]:\n",
      "            continue\n",
      "        for polygon in nh_poly_groups[i]:\n",
      "            if PointInPloygon(point, polygon):\n",
      "                return i\n",
      "    return -1"
     ],
     "language": "python",
     "metadata": {},
     "outputs": [],
     "prompt_number": 101
    },
    {
     "cell_type": "code",
     "collapsed": false,
     "input": [
      "import csv\n",
      "import pandas as pd\n",
      "\n",
      "df_train = pd.read_csv('../sf/train.csv', parse_dates=['Dates'])"
     ],
     "language": "python",
     "metadata": {},
     "outputs": [],
     "prompt_number": 3
    },
    {
     "cell_type": "code",
     "collapsed": false,
     "input": [
      "import datetime \n",
      "\n",
      "points = zip(df_train['X'], df_train['Y'])\n",
      "nh_res = []\n",
      "n_wrong = 0\n",
      "#for i in range(0, len(points)):\n",
      "for i in range(0, 100):\n",
      "    nh_id = PointInPloygonGroups(points[i], nh_poly_groups)\n",
      "    if nh_id == -1:#could not find matching neighbourhood\n",
      "        nh_res.append('')\n",
      "        n_wrong += 1\n",
      "    else:\n",
      "        nh_res.append(nh_names[nh_id])\n",
      "        #print i, datetime.datetime.now(), nh_names[nh_id], points[i]\n",
      "    if i % 1000 == 0:\n",
      "        print i, n_wrong,\n",
      "    if i % 10000 == 0:\n",
      "        print '\\n', datetime.datetime.now()\n",
      "\n",
      "f = open('./data/nh_res.txt', 'w')\n",
      "for line in nh_res:\n",
      "    f.write(line + '\\n')\n",
      "f.close()"
     ],
     "language": "python",
     "metadata": {},
     "outputs": [
      {
       "output_type": "stream",
       "stream": "stdout",
       "text": [
        " 0 0 \n",
        "2016-02-14 17:56:59.476746\n"
       ]
      }
     ],
     "prompt_number": 106
    },
    {
     "cell_type": "code",
     "collapsed": false,
     "input": [],
     "language": "python",
     "metadata": {},
     "outputs": [],
     "prompt_number": 91
    },
    {
     "cell_type": "code",
     "collapsed": false,
     "input": [
      "nh_names"
     ],
     "language": "python",
     "metadata": {},
     "outputs": [
      {
       "metadata": {},
       "output_type": "pyout",
       "prompt_number": 92,
       "text": [
        "[u'Bayview Hunters Point',\n",
        " u'Bernal Heights',\n",
        " u'Castro/Upper Market',\n",
        " u'Chinatown',\n",
        " u'Excelsior',\n",
        " u'Financial District',\n",
        " u'Glen Park',\n",
        " u'Golden Gate Park',\n",
        " u'Haight Ashbury',\n",
        " u'Hayes Valley',\n",
        " u'Inner Richmond',\n",
        " u'Inner Sunset',\n",
        " u'Japantown',\n",
        " u'Lakeshore',\n",
        " u'Lincoln Park',\n",
        " u'Lone Mountain/USF',\n",
        " u'Marina',\n",
        " u'McLaren Park',\n",
        " u'Mission',\n",
        " u'Mission Bay',\n",
        " u'Nob Hill',\n",
        " u'Noe Valley',\n",
        " u'North Beach',\n",
        " u'Oceanview/Merced/Ingleside',\n",
        " u'Outer Mission',\n",
        " u'Outer Richmond',\n",
        " u'Pacific Heights',\n",
        " u'Portola',\n",
        " u'Potrero Hill',\n",
        " u'Presidio',\n",
        " u'Presidio Heights',\n",
        " u'Russian Hill',\n",
        " u'Seacliff',\n",
        " u'South of Market',\n",
        " u'Sunset/Parkside',\n",
        " u'Tenderloin',\n",
        " u'Treasure Island',\n",
        " u'Twin Peaks',\n",
        " u'Visitacion Valley',\n",
        " u'West of Twin Peaks',\n",
        " u'Western Addition']"
       ]
      }
     ],
     "prompt_number": 92
    },
    {
     "cell_type": "code",
     "collapsed": false,
     "input": [],
     "language": "python",
     "metadata": {},
     "outputs": []
    }
   ],
   "metadata": {}
  }
 ]
}
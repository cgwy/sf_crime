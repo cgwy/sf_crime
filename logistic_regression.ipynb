{
 "metadata": {
  "name": "",
  "signature": "sha256:db2726c8d93965f9726bf26263561b65ac5e918ed4aca3d3a605909fc622e0f2"
 },
 "nbformat": 3,
 "nbformat_minor": 0,
 "worksheets": [
  {
   "cells": [
    {
     "cell_type": "code",
     "collapsed": false,
     "input": [
      "import csv\n",
      "import datetime\n",
      "import pandas as pd\n",
      "import numpy as np\n",
      "\n",
      "demographic_data = {}\n",
      "with open('data/demographic.csv', 'rbU') as csvfile:\n",
      "    demo_fields = []\n",
      "    demographic_read = csv.reader(csvfile, delimiter=';')\n",
      "    for row in demographic_read:\n",
      "        if len(demo_fields) == 0:\n",
      "            demo_fields = row[2:] #row[2:] are actual data\n",
      "        else:\n",
      "            demographic_data[row[1]] = np.array(row[2:]).astype(np.float) #row[1] is PdDistrict, used as index\n",
      "            \n",
      "df_demographic = pd.DataFrame(demographic_data).transpose()\n",
      "df_demographic.columns = demo_fields"
     ],
     "language": "python",
     "metadata": {},
     "outputs": [],
     "prompt_number": 1
    },
    {
     "cell_type": "code",
     "collapsed": false,
     "input": [
      "df_train = pd.read_csv('../sf/train.csv', parse_dates=['Dates'])\n",
      "df_train.drop(['Descript', 'Resolution'], axis=1, inplace=True)\n",
      "df_train = df_train.join(df_demographic, on='PdDistrict')\n",
      "for column_name in ['Category', 'DayOfWeek', 'PdDistrict']:\n",
      "    df_train[column_name] = pd.Categorical.from_array(df_train[column_name]).codes\n",
      "df_train['day_of_year'] = map(lambda x: x.timetuple().tm_yday, df_train['Dates'])\n",
      "df_train['hour_of_day'] = map(lambda x: x.hour, df_train['Dates'])"
     ],
     "language": "python",
     "metadata": {},
     "outputs": [],
     "prompt_number": 2
    },
    {
     "cell_type": "code",
     "collapsed": false,
     "input": [
      "df_test = pd.read_csv('../sf/test.csv', parse_dates=['Dates'])\n",
      "df_test = df_test.join(df_demographic, on='PdDistrict')\n",
      "for column_name in ['DayOfWeek', 'PdDistrict']:\n",
      "    df_train[column_name] = pd.Categorical.from_array(df_train[column_name]).codes\n",
      "df_test['day_of_year'] = map(lambda x: x.timetuple().tm_yday, df_test['Dates'])\n",
      "df_test['hour_of_day'] = map(lambda x: x.hour, df_test['Dates'])"
     ],
     "language": "python",
     "metadata": {},
     "outputs": [],
     "prompt_number": 3
    },
    {
     "cell_type": "code",
     "collapsed": false,
     "input": [
      "inds = np.arange(df_train.shape[0])\n",
      "np.random.shuffle(inds)\n",
      "\n",
      "from patsy import dmatrices, dmatrix\n",
      "from sklearn.feature_extraction.text import CountVectorizer\n",
      "\n",
      "df_train, df_val = df_train[:int(0.8*len(inds))], df_train[int(0.8*len(inds)):]\n",
      "y_train, X_train = dmatrices('Category ~ X + Y + DayOfWeek + PdDistrict + hour_of_day', df_train)\n",
      "y_val, X_val = dmatrices('Category ~ X + Y + DayOfWeek + PdDistrict + hour_of_day', df_val)"
     ],
     "language": "python",
     "metadata": {},
     "outputs": [],
     "prompt_number": 4
    },
    {
     "cell_type": "code",
     "collapsed": false,
     "input": [
      "from sklearn.linear_model import LogisticRegression\n",
      "\n",
      "d1 = datetime.datetime.now()\n",
      "logistic = LogisticRegression(max_iter=10)\n",
      "logistic.fit(X_train, y_train.ravel())\n",
      "print('Mean accuracy (Logistic): {:.4f}'.format(logistic.score(X_val, y_val.ravel())))\n",
      "d2 = datetime.datetime.now()\n",
      "print d2 - d1"
     ],
     "language": "python",
     "metadata": {},
     "outputs": [
      {
       "output_type": "stream",
       "stream": "stdout",
       "text": [
        "Mean accuracy (Logistic): 0.1715\n",
        "0:02:53.267313\n"
       ]
      }
     ],
     "prompt_number": 6
    },
    {
     "cell_type": "code",
     "collapsed": false,
     "input": [
      "d1 = datetime.datetime.now()\n",
      "logistic = LogisticRegression(max_iter=50, solver='lbfgs', multi_class='multinomial')\n",
      "logistic.fit(X_train, y_train.ravel())\n",
      "print('Mean accuracy (Logistic): {:.4f}'.format(logistic.score(X_val, y_val.ravel())))\n",
      "d2 = datetime.datetime.now()\n",
      "print d2 - d1"
     ],
     "language": "python",
     "metadata": {},
     "outputs": [
      {
       "output_type": "stream",
       "stream": "stdout",
       "text": [
        "Mean accuracy (Logistic): 0.1695\n",
        "0:00:31.794556\n"
       ]
      }
     ],
     "prompt_number": 8
    },
    {
     "cell_type": "code",
     "collapsed": false,
     "input": [
      "from sklearn.neighbors import KNeighborsClassifier\n",
      "\n",
      "d1 = datetime.datetime.now()\n",
      "knn = KNeighborsClassifier()\n",
      "knn.fit(X_train, y_train.ravel())\n",
      "print('Mean accuracy (knn): {:.4f}'.format(knn.score(X_val, y_val.ravel())))\n",
      "d2 = datetime.datetime.now()\n",
      "print d2 - d1"
     ],
     "language": "python",
     "metadata": {},
     "outputs": [
      {
       "output_type": "stream",
       "stream": "stdout",
       "text": [
        "Mean accuracy (knn): 0.1822\n"
       ]
      }
     ],
     "prompt_number": 15
    },
    {
     "cell_type": "code",
     "collapsed": false,
     "input": [
      "from sklearn.ensemble import RandomForestClassifier\n",
      "\n",
      "d1 = datetime.datetime.now()\n",
      "clf = RandomForestClassifier(n_estimators=10)\n",
      "clf.fit(X_train, y_train.ravel())\n",
      "print('Mean accuracy (random forest): {:.4f}'.format(clf.score(X_val, y_val.ravel())))\n",
      "d2 = datetime.datetime.now()\n",
      "print d2 - d1"
     ],
     "language": "python",
     "metadata": {},
     "outputs": [
      {
       "output_type": "stream",
       "stream": "stdout",
       "text": [
        "Mean accuracy (random forest): 0.1977\n"
       ]
      }
     ],
     "prompt_number": 14
    },
    {
     "cell_type": "code",
     "collapsed": false,
     "input": [
      "from sklearn.ensemble import AdaBoostClassifier\n",
      "\n",
      "abc = AdaBoostClassifier()\n",
      "d1 = datetime.datetime.now()\n",
      "abc.fit(X_train, y_train.ravel())\n",
      "print('Mean accuracy (adaboost): {:.4f}'.format(abc.score(X_val, y_val.ravel())))\n",
      "d2 = datetime.datetime.now()\n",
      "print d2 - d1\n",
      "#X + Y + DayOfWeek + PdDistrict = 0.1902\n",
      "#X + Y + DayOfWeek + PdDistrict + hour_of_day = 0.2120"
     ],
     "language": "python",
     "metadata": {},
     "outputs": [
      {
       "output_type": "stream",
       "stream": "stdout",
       "text": [
        "Mean accuracy (adaboost): 0.2120\n",
        "0:00:07.568943\n"
       ]
      }
     ],
     "prompt_number": 22
    },
    {
     "cell_type": "code",
     "collapsed": false,
     "input": [
      "df_train.skew()"
     ],
     "language": "python",
     "metadata": {},
     "outputs": [
      {
       "metadata": {},
       "output_type": "pyout",
       "prompt_number": 10,
       "text": [
        "Category                              0.055506\n",
        "DayOfWeek                             0.007637\n",
        "PdDistrict                            0.021409\n",
        "X                                    14.331992\n",
        "Y                                   140.752928\n",
        "population                            0.304752\n",
        "black                                 2.044273\n",
        "asian                                 0.225572\n",
        "white                                -0.224590\n",
        "native american indian                0.216933\n",
        "native hawaiian/pacific Islander      2.547702\n",
        "other/two or more races               0.476277\n",
        "latino                                0.913375\n",
        "high school or less                   0.116989\n",
        "some college/associate degree        -0.109184\n",
        "college degree                        0.163046\n",
        "graduate                             -0.288005\n",
        "percapita income                      0.512948\n",
        "poverty percent                       0.293561\n",
        "unemployment rate                     1.521674\n",
        "day_of_year                          -0.020731\n",
        "hour_of_day                          -0.512424\n",
        "dtype: float64"
       ]
      }
     ],
     "prompt_number": 10
    },
    {
     "cell_type": "code",
     "collapsed": false,
     "input": [
      "%matplotlib inline\n",
      "import matplotlib.pyplot as plt\n",
      "import matplotlib\n",
      "matplotlib.style.use('ggplot')\n",
      "df1 = df_train[:100]\n",
      "df1['Y'].hist()"
     ],
     "language": "python",
     "metadata": {},
     "outputs": [
      {
       "metadata": {},
       "output_type": "pyout",
       "prompt_number": 7,
       "text": [
        "<matplotlib.axes._subplots.AxesSubplot at 0x10f70c8d0>"
       ]
      },
      {
       "metadata": {},
       "output_type": "display_data",
       "png": "[encoded data removed]",
       "text": [
        "<matplotlib.figure.Figure at 0x10bd455d0>"
       ]
      }
     ],
     "prompt_number": 7
    },
    {
     "cell_type": "code",
     "collapsed": false,
     "input": [
      "#QDA result sucks\n",
      "from sklearn.lda import LDA\n",
      "\n",
      "lda = LDA()\n",
      "lda.fit(X_train, y_train.ravel())\n",
      "print('Mean accuracy (lda): {:.4f}'.format(lda.score(X_val, y_val.ravel())))"
     ],
     "language": "python",
     "metadata": {},
     "outputs": [
      {
       "output_type": "stream",
       "stream": "stdout",
       "text": [
        "Mean accuracy (lda): 0.1694\n"
       ]
      }
     ],
     "prompt_number": 7
    },
    {
     "cell_type": "code",
     "collapsed": false,
     "input": [
      "print df_train.columns.values\n",
      "#df1 = df_train[:100000].drop(['Category', 'Address', 'Dates'], axis=1)\n",
      "#should not add 'population' / 'percapita income' ?\n",
      "df1 = df_train[['DayOfWeek', 'PdDistrict', 'X', 'Y', 'hour_of_day','poverty percent','unemployment rate','black','asian','white','native american indian'\n",
      "                ,'high school or less', 'some college/associate degree', 'college degree', 'graduate']]\n",
      "\n",
      "from sklearn.decomposition import PCA\n",
      "pca = PCA(n_components=min(10,df1.shape[1]))\n",
      "pca.fit(df1)\n",
      "print(pca.explained_variance_ratio_) "
     ],
     "language": "python",
     "metadata": {},
     "outputs": [
      {
       "output_type": "stream",
       "stream": "stdout",
       "text": [
        "['Dates' 'Category' 'DayOfWeek' 'PdDistrict' 'Address' 'X' 'Y' 'population'\n",
        " 'black' 'asian' 'white' 'native american indian'\n",
        " 'native hawaiian/pacific Islander' 'other/two or more races' 'latino'\n",
        " 'high school or less' 'some college/associate degree' 'college degree'\n",
        " 'graduate' 'percapita income' 'poverty percent' 'unemployment rate'\n",
        " 'day_of_year' 'hour_of_day']\n",
        "[ 0.75914402  0.11052064  0.04066513  0.04000587  0.02712063  0.00865623\n",
        "  0.00563686  0.00382951  0.0032364   0.00093084]"
       ]
      },
      {
       "output_type": "stream",
       "stream": "stdout",
       "text": [
        "\n"
       ]
      }
     ],
     "prompt_number": 24
    },
    {
     "cell_type": "code",
     "collapsed": false,
     "input": [
      "df2 = df_train[:10000]\n",
      "print df2.corr()"
     ],
     "language": "python",
     "metadata": {},
     "outputs": [
      {
       "output_type": "stream",
       "stream": "stdout",
       "text": [
        "                                  Category  DayOfWeek  PdDistrict         X  \\\n",
        "Category                          1.000000   0.001971   -0.006807 -0.008730   \n",
        "DayOfWeek                         0.001971   1.000000    0.001744 -0.021600   \n",
        "PdDistrict                       -0.006807   0.001744    1.000000 -0.350057   \n",
        "X                                -0.008730  -0.021600   -0.350057  1.000000   \n",
        "Y                                -0.064522   0.007121    0.179401  0.189929   \n",
        "population                        0.027160   0.009319    0.048993  0.251286   \n",
        "black                             0.021537   0.007507   -0.191113  0.415205   \n",
        "asian                             0.039245  -0.000236    0.163508 -0.215988   \n",
        "white                            -0.054202  -0.005029    0.061646 -0.121982   \n",
        "native american indian            0.032921  -0.004737    0.209545  0.292503   \n",
        "native hawaiian/pacific Islander  0.026813   0.011545   -0.408152  0.354757   \n",
        "other/two or more races           0.053959   0.006465   -0.205695  0.172058   \n",
        "latino                            0.048822   0.004805   -0.342338  0.195342   \n",
        "high school or less               0.050167   0.004341   -0.220199  0.352806   \n",
        "some college/associate degree     0.046513   0.016145    0.203346 -0.086409   \n",
        "college degree                   -0.043523  -0.005612    0.092481 -0.275026   \n",
        "graduate                         -0.059323  -0.011688    0.076041 -0.147023   \n",
        "percapita income                 -0.053616  -0.017998   -0.088395  0.119296   \n",
        "poverty percent                  -0.001472   0.000477    0.479194  0.308649   \n",
        "unemployment rate                 0.003756   0.025067   -0.181731  0.281986   \n",
        "day_of_year                       0.003369   0.076357   -0.007357 -0.013335   \n",
        "hour_of_day                       0.037023  -0.021471    0.010714  0.041436   \n",
        "\n",
        "                                         Y  population     black     asian  \\\n",
        "Category                         -0.064522    0.027160  0.021537  0.039245   \n",
        "DayOfWeek                         0.007121    0.009319  0.007507 -0.000236   \n",
        "PdDistrict                        0.179401    0.048993 -0.191113  0.163508   \n",
        "X                                 0.189929    0.251286  0.415205 -0.215988   \n",
        "Y                                 1.000000   -0.188859 -0.340220 -0.444606   \n",
        "population                       -0.188859    1.000000  0.233454 -0.029967   \n",
        "black                            -0.340220    0.233454  1.000000  0.191766   \n",
        "asian                            -0.444606   -0.029967  0.191766  1.000000   \n",
        "white                             0.659280   -0.370472 -0.725005 -0.729510   \n",
        "native american indian           -0.251777    0.840518  0.323245 -0.031224   \n",
        "native hawaiian/pacific Islander -0.440142    0.186887  0.960801  0.164262   \n",
        "other/two or more races          -0.612071    0.789598  0.410624  0.075460   \n",
        "latino                           -0.541775    0.775336  0.248500 -0.045443   \n",
        "high school or less              -0.577468    0.597238  0.709697  0.436142   \n",
        "some college/associate degree    -0.567060    0.245706  0.680105  0.681994   \n",
        "college degree                    0.520774   -0.456736 -0.775327 -0.499654   \n",
        "graduate                          0.675002   -0.545976 -0.637563 -0.551184   \n",
        "percapita income                  0.678584   -0.498077 -0.518876 -0.560147   \n",
        "poverty percent                  -0.023900    0.325006  0.563927  0.137886   \n",
        "unemployment rate                -0.198336    0.187670  0.865469  0.163132   \n",
        "day_of_year                      -0.032451   -0.005761  0.009203  0.001857   \n",
        "hour_of_day                       0.016041    0.026803  0.020725 -0.009784   \n",
        "\n",
        "                                     white  native american indian  \\\n",
        "Category                         -0.054202                0.032921   \n",
        "DayOfWeek                        -0.005029               -0.004737   \n",
        "PdDistrict                        0.061646                0.209545   \n",
        "X                                -0.121982                0.292503   \n",
        "Y                                 0.659280               -0.251777   \n",
        "population                       -0.370472                0.840518   \n",
        "black                            -0.725005                0.323245   \n",
        "asian                            -0.729510               -0.031224   \n",
        "white                             1.000000               -0.427696   \n",
        "native american indian           -0.427696                1.000000   \n",
        "native hawaiian/pacific Islander -0.705152                0.211118   \n",
        "other/two or more races          -0.600899                0.816275   \n",
        "latino                           -0.440841                0.746729   \n",
        "high school or less              -0.892726                0.662786   \n",
        "some college/associate degree    -0.901737                0.374968   \n",
        "college degree                    0.916748               -0.613540   \n",
        "graduate                          0.902658               -0.524361   \n",
        "percapita income                  0.859368               -0.577983   \n",
        "poverty percent                  -0.444832                0.540727   \n",
        "unemployment rate                -0.612422                0.192860   \n",
        "day_of_year                      -0.010868               -0.004169   \n",
        "hour_of_day                      -0.006604                0.032282   \n",
        "\n",
        "                                     ...         latino  high school or less  \\\n",
        "Category                             ...       0.048822             0.050167   \n",
        "DayOfWeek                            ...       0.004805             0.004341   \n",
        "PdDistrict                           ...      -0.342338            -0.220199   \n",
        "X                                    ...       0.195342             0.352806   \n",
        "Y                                    ...      -0.541775            -0.577468   \n",
        "population                           ...       0.775336             0.597238   \n",
        "black                                ...       0.248500             0.709697   \n",
        "asian                                ...      -0.045443             0.436142   \n",
        "white                                ...      -0.440841            -0.892726   \n",
        "native american indian               ...       0.746729             0.662786   \n",
        "native hawaiian/pacific Islander     ...       0.330215             0.703422   \n",
        "other/two or more races              ...       0.968981             0.819780   \n",
        "latino                               ...       1.000000             0.718955   \n",
        "high school or less                  ...       0.718955             1.000000   \n",
        "some college/associate degree        ...       0.272678             0.764844   \n",
        "college degree                       ...      -0.549737            -0.955472   \n",
        "graduate                             ...      -0.627920            -0.914950   \n",
        "percapita income                     ...      -0.621220            -0.846577   \n",
        "poverty percent                      ...       0.096115             0.467588   \n",
        "unemployment rate                    ...       0.195634             0.638266   \n",
        "day_of_year                          ...       0.012620             0.008288   \n",
        "hour_of_day                          ...       0.004213             0.008053   \n",
        "\n",
        "                                  some college/associate degree  \\\n",
        "Category                                               0.046513   \n",
        "DayOfWeek                                              0.016145   \n",
        "PdDistrict                                             0.203346   \n",
        "X                                                     -0.086409   \n",
        "Y                                                     -0.567060   \n",
        "population                                             0.245706   \n",
        "black                                                  0.680105   \n",
        "asian                                                  0.681994   \n",
        "white                                                 -0.901737   \n",
        "native american indian                                 0.374968   \n",
        "native hawaiian/pacific Islander                       0.626976   \n",
        "other/two or more races                                0.470265   \n",
        "latino                                                 0.272678   \n",
        "high school or less                                    0.764844   \n",
        "some college/associate degree                          1.000000   \n",
        "college degree                                        -0.862596   \n",
        "graduate                                              -0.840682   \n",
        "percapita income                                      -0.873052   \n",
        "poverty percent                                        0.505871   \n",
        "unemployment rate                                      0.655663   \n",
        "day_of_year                                            0.013182   \n",
        "hour_of_day                                           -0.006647   \n",
        "\n",
        "                                  college degree  graduate  percapita income  \\\n",
        "Category                               -0.043523 -0.059323         -0.053616   \n",
        "DayOfWeek                              -0.005612 -0.011688         -0.017998   \n",
        "PdDistrict                              0.092481  0.076041         -0.088395   \n",
        "X                                      -0.275026 -0.147023          0.119296   \n",
        "Y                                       0.520774  0.675002          0.678584   \n",
        "population                             -0.456736 -0.545976         -0.498077   \n",
        "black                                  -0.775327 -0.637563         -0.518876   \n",
        "asian                                  -0.499654 -0.551184         -0.560147   \n",
        "white                                   0.916748  0.902658          0.859368   \n",
        "native american indian                 -0.613540 -0.524361         -0.577983   \n",
        "native hawaiian/pacific Islander       -0.730995 -0.647512         -0.513177   \n",
        "other/two or more races                -0.697443 -0.743907         -0.760528   \n",
        "latino                                 -0.549737 -0.627920         -0.621220   \n",
        "high school or less                    -0.955472 -0.914950         -0.846577   \n",
        "some college/associate degree          -0.862596 -0.840682         -0.873052   \n",
        "college degree                          1.000000  0.847666          0.863904   \n",
        "graduate                                0.847666  1.000000          0.860442   \n",
        "percapita income                        0.863904  0.860442          1.000000   \n",
        "poverty percent                        -0.570091 -0.366367         -0.480538   \n",
        "unemployment rate                      -0.719001 -0.562033         -0.567752   \n",
        "day_of_year                            -0.006913 -0.014506         -0.018358   \n",
        "hour_of_day                            -0.007738  0.001213          0.011706   \n",
        "\n",
        "                                  poverty percent  unemployment rate  \\\n",
        "Category                                -0.001472           0.003756   \n",
        "DayOfWeek                                0.000477           0.025067   \n",
        "PdDistrict                               0.479194          -0.181731   \n",
        "X                                        0.308649           0.281986   \n",
        "Y                                       -0.023900          -0.198336   \n",
        "population                               0.325006           0.187670   \n",
        "black                                    0.563927           0.865469   \n",
        "asian                                    0.137886           0.163132   \n",
        "white                                   -0.444832          -0.612422   \n",
        "native american indian                   0.540727           0.192860   \n",
        "native hawaiian/pacific Islander         0.359523           0.850833   \n",
        "other/two or more races                  0.274867           0.330704   \n",
        "latino                                   0.096115           0.195634   \n",
        "high school or less                      0.467588           0.638266   \n",
        "some college/associate degree            0.505871           0.655663   \n",
        "college degree                          -0.570091          -0.719001   \n",
        "graduate                                -0.366367          -0.562033   \n",
        "percapita income                        -0.480538          -0.567752   \n",
        "poverty percent                          1.000000           0.590256   \n",
        "unemployment rate                        0.590256           1.000000   \n",
        "day_of_year                             -0.000876           0.011289   \n",
        "hour_of_day                              0.022946          -0.006189   \n",
        "\n",
        "                                  day_of_year  hour_of_day  \n",
        "Category                             0.003369     0.037023  \n",
        "DayOfWeek                            0.076357    -0.021471  \n",
        "PdDistrict                          -0.007357     0.010714  \n",
        "X                                   -0.013335     0.041436  \n",
        "Y                                   -0.032451     0.016041  \n",
        "population                          -0.005761     0.026803  \n",
        "black                                0.009203     0.020725  \n",
        "asian                                0.001857    -0.009784  \n",
        "white                               -0.010868    -0.006604  \n",
        "native american indian              -0.004169     0.032282  \n",
        "native hawaiian/pacific Islander     0.015478     0.009790  \n",
        "other/two or more races              0.014241     0.008436  \n",
        "latino                               0.012620     0.004213  \n",
        "high school or less                  0.008288     0.008053  \n",
        "some college/associate degree        0.013182    -0.006647  \n",
        "college degree                      -0.006913    -0.007738  \n",
        "graduate                            -0.014506     0.001213  \n",
        "percapita income                    -0.018358     0.011706  \n",
        "poverty percent                     -0.000876     0.022946  \n",
        "unemployment rate                    0.011289    -0.006189  \n",
        "day_of_year                          1.000000    -0.042924  \n",
        "hour_of_day                         -0.042924     1.000000  \n",
        "\n",
        "[22 rows x 22 columns]\n"
       ]
      }
     ],
     "prompt_number": 12
    }
   ],
   "metadata": {}
  }
 ]
}